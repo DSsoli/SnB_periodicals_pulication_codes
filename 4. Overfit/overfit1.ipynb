{
 "cells": [
  {
   "cell_type": "code",
   "execution_count": 1,
   "source": [
    "import numpy as np\r\n",
    "import pandas as pd\r\n",
    "\r\n",
    "import matplotlib.pyplot as plt\r\n",
    "import seaborn as sns\r\n",
    "\r\n",
    "import sys\r\n",
    "sys.path.append('C:\\\\Users\\\\Master\\\\Desktop\\\\dataTools')\r\n",
    "import dataTools as dt"
   ],
   "outputs": [],
   "metadata": {}
  },
  {
   "cell_type": "code",
   "execution_count": 2,
   "source": [
    "raw_train = pd.read_csv('C:\\\\Users\\\\Master\\\\Desktop\\\\snb edu_codes\\\\4. Overfit\\\\california_housing_train.csv')\r\n",
    "raw_test = pd.read_csv('C:\\\\Users\\\\Master\\\\Desktop\\\\snb edu_codes\\\\4. Overfit\\\\california_housing_test.csv')"
   ],
   "outputs": [],
   "metadata": {}
  },
  {
   "cell_type": "code",
   "execution_count": 3,
   "source": [
    "raw_train.head()"
   ],
   "outputs": [
    {
     "output_type": "execute_result",
     "data": {
      "text/plain": [
       "   longitude  latitude  housing_median_age  total_rooms  total_bedrooms  \\\n",
       "0    -114.31     34.19                15.0       5612.0          1283.0   \n",
       "1    -114.47     34.40                19.0       7650.0          1901.0   \n",
       "2    -114.56     33.69                17.0        720.0           174.0   \n",
       "3    -114.57     33.64                14.0       1501.0           337.0   \n",
       "4    -114.57     33.57                20.0       1454.0           326.0   \n",
       "\n",
       "   population  households  median_income  median_house_value  \n",
       "0      1015.0       472.0         1.4936             66900.0  \n",
       "1      1129.0       463.0         1.8200             80100.0  \n",
       "2       333.0       117.0         1.6509             85700.0  \n",
       "3       515.0       226.0         3.1917             73400.0  \n",
       "4       624.0       262.0         1.9250             65500.0  "
      ],
      "text/html": [
       "<div>\n",
       "<style scoped>\n",
       "    .dataframe tbody tr th:only-of-type {\n",
       "        vertical-align: middle;\n",
       "    }\n",
       "\n",
       "    .dataframe tbody tr th {\n",
       "        vertical-align: top;\n",
       "    }\n",
       "\n",
       "    .dataframe thead th {\n",
       "        text-align: right;\n",
       "    }\n",
       "</style>\n",
       "<table border=\"1\" class=\"dataframe\">\n",
       "  <thead>\n",
       "    <tr style=\"text-align: right;\">\n",
       "      <th></th>\n",
       "      <th>longitude</th>\n",
       "      <th>latitude</th>\n",
       "      <th>housing_median_age</th>\n",
       "      <th>total_rooms</th>\n",
       "      <th>total_bedrooms</th>\n",
       "      <th>population</th>\n",
       "      <th>households</th>\n",
       "      <th>median_income</th>\n",
       "      <th>median_house_value</th>\n",
       "    </tr>\n",
       "  </thead>\n",
       "  <tbody>\n",
       "    <tr>\n",
       "      <th>0</th>\n",
       "      <td>-114.31</td>\n",
       "      <td>34.19</td>\n",
       "      <td>15.0</td>\n",
       "      <td>5612.0</td>\n",
       "      <td>1283.0</td>\n",
       "      <td>1015.0</td>\n",
       "      <td>472.0</td>\n",
       "      <td>1.4936</td>\n",
       "      <td>66900.0</td>\n",
       "    </tr>\n",
       "    <tr>\n",
       "      <th>1</th>\n",
       "      <td>-114.47</td>\n",
       "      <td>34.40</td>\n",
       "      <td>19.0</td>\n",
       "      <td>7650.0</td>\n",
       "      <td>1901.0</td>\n",
       "      <td>1129.0</td>\n",
       "      <td>463.0</td>\n",
       "      <td>1.8200</td>\n",
       "      <td>80100.0</td>\n",
       "    </tr>\n",
       "    <tr>\n",
       "      <th>2</th>\n",
       "      <td>-114.56</td>\n",
       "      <td>33.69</td>\n",
       "      <td>17.0</td>\n",
       "      <td>720.0</td>\n",
       "      <td>174.0</td>\n",
       "      <td>333.0</td>\n",
       "      <td>117.0</td>\n",
       "      <td>1.6509</td>\n",
       "      <td>85700.0</td>\n",
       "    </tr>\n",
       "    <tr>\n",
       "      <th>3</th>\n",
       "      <td>-114.57</td>\n",
       "      <td>33.64</td>\n",
       "      <td>14.0</td>\n",
       "      <td>1501.0</td>\n",
       "      <td>337.0</td>\n",
       "      <td>515.0</td>\n",
       "      <td>226.0</td>\n",
       "      <td>3.1917</td>\n",
       "      <td>73400.0</td>\n",
       "    </tr>\n",
       "    <tr>\n",
       "      <th>4</th>\n",
       "      <td>-114.57</td>\n",
       "      <td>33.57</td>\n",
       "      <td>20.0</td>\n",
       "      <td>1454.0</td>\n",
       "      <td>326.0</td>\n",
       "      <td>624.0</td>\n",
       "      <td>262.0</td>\n",
       "      <td>1.9250</td>\n",
       "      <td>65500.0</td>\n",
       "    </tr>\n",
       "  </tbody>\n",
       "</table>\n",
       "</div>"
      ]
     },
     "metadata": {},
     "execution_count": 3
    }
   ],
   "metadata": {}
  },
  {
   "cell_type": "code",
   "execution_count": 4,
   "source": [
    "raw_train.keys()"
   ],
   "outputs": [
    {
     "output_type": "execute_result",
     "data": {
      "text/plain": [
       "Index(['longitude', 'latitude', 'housing_median_age', 'total_rooms',\n",
       "       'total_bedrooms', 'population', 'households', 'median_income',\n",
       "       'median_house_value'],\n",
       "      dtype='object')"
      ]
     },
     "metadata": {},
     "execution_count": 4
    }
   ],
   "metadata": {}
  },
  {
   "cell_type": "code",
   "execution_count": 5,
   "source": [
    "features = raw_train.drop(columns='median_house_value')\r\n",
    "target = raw_train['median_house_value']\r\n",
    "features_Test = raw_test.drop(columns='median_house_value')\r\n",
    "target_test = raw_test['median_house_value']"
   ],
   "outputs": [],
   "metadata": {}
  },
  {
   "cell_type": "code",
   "execution_count": 6,
   "source": [
    "target.head()"
   ],
   "outputs": [
    {
     "output_type": "execute_result",
     "data": {
      "text/plain": [
       "0    66900.0\n",
       "1    80100.0\n",
       "2    85700.0\n",
       "3    73400.0\n",
       "4    65500.0\n",
       "Name: median_house_value, dtype: float64"
      ]
     },
     "metadata": {},
     "execution_count": 6
    }
   ],
   "metadata": {}
  },
  {
   "cell_type": "code",
   "execution_count": 7,
   "source": [
    "from sklearn.linear_model import LinearRegression\r\n",
    "initialModel = LinearRegression().fit(features, target)\r\n",
    "initialModel.score(features, target)"
   ],
   "outputs": [
    {
     "output_type": "execute_result",
     "data": {
      "text/plain": [
       "0.6413378529502691"
      ]
     },
     "metadata": {},
     "execution_count": 7
    }
   ],
   "metadata": {}
  },
  {
   "cell_type": "code",
   "execution_count": 8,
   "source": [
    "def rSquare( x, y, yhat ):\r\n",
    "    if x.ndim == 1: p, n = 1, x.shape[0]\r\n",
    "    else: p, n = x.shape[1], x.shape[0]\r\n",
    "    r2 = 1 - np.sum( (y - yhat) ** 2) / np.sum( (y - np.mean(y)) ** 2 ) \r\n",
    "    adj_r2 = 1 - (1 - r2) * ( n - 1) / ( n - p - 1 )\r\n",
    "    return {'r2': r2, 'adjr2': adj_r2}"
   ],
   "outputs": [],
   "metadata": {}
  },
  {
   "cell_type": "code",
   "execution_count": 9,
   "source": [
    "yhat = initialModel.predict(features)\r\n",
    "rSquare(features, target, yhat)"
   ],
   "outputs": [
    {
     "output_type": "execute_result",
     "data": {
      "text/plain": [
       "{'r2': 0.6413378529502691, 'adjr2': 0.641168981360816}"
      ]
     },
     "metadata": {},
     "execution_count": 9
    }
   ],
   "metadata": {}
  },
  {
   "cell_type": "code",
   "execution_count": 10,
   "source": [
    "features.corr()"
   ],
   "outputs": [
    {
     "output_type": "execute_result",
     "data": {
      "text/plain": [
       "                    longitude  latitude  housing_median_age  total_rooms  \\\n",
       "longitude            1.000000 -0.925208           -0.114250     0.047010   \n",
       "latitude            -0.925208  1.000000            0.016454    -0.038773   \n",
       "housing_median_age  -0.114250  0.016454            1.000000    -0.360984   \n",
       "total_rooms          0.047010 -0.038773           -0.360984     1.000000   \n",
       "total_bedrooms       0.071802 -0.069373           -0.320434     0.928403   \n",
       "population           0.101674 -0.111261           -0.295890     0.860170   \n",
       "households           0.059628 -0.074902           -0.302754     0.919018   \n",
       "median_income       -0.015485 -0.080303           -0.115932     0.195383   \n",
       "\n",
       "                    total_bedrooms  population  households  median_income  \n",
       "longitude                 0.071802    0.101674    0.059628      -0.015485  \n",
       "latitude                 -0.069373   -0.111261   -0.074902      -0.080303  \n",
       "housing_median_age       -0.320434   -0.295890   -0.302754      -0.115932  \n",
       "total_rooms               0.928403    0.860170    0.919018       0.195383  \n",
       "total_bedrooms            1.000000    0.881169    0.980920      -0.013495  \n",
       "population                0.881169    1.000000    0.909247      -0.000638  \n",
       "households                0.980920    0.909247    1.000000       0.007644  \n",
       "median_income            -0.013495   -0.000638    0.007644       1.000000  "
      ],
      "text/html": [
       "<div>\n",
       "<style scoped>\n",
       "    .dataframe tbody tr th:only-of-type {\n",
       "        vertical-align: middle;\n",
       "    }\n",
       "\n",
       "    .dataframe tbody tr th {\n",
       "        vertical-align: top;\n",
       "    }\n",
       "\n",
       "    .dataframe thead th {\n",
       "        text-align: right;\n",
       "    }\n",
       "</style>\n",
       "<table border=\"1\" class=\"dataframe\">\n",
       "  <thead>\n",
       "    <tr style=\"text-align: right;\">\n",
       "      <th></th>\n",
       "      <th>longitude</th>\n",
       "      <th>latitude</th>\n",
       "      <th>housing_median_age</th>\n",
       "      <th>total_rooms</th>\n",
       "      <th>total_bedrooms</th>\n",
       "      <th>population</th>\n",
       "      <th>households</th>\n",
       "      <th>median_income</th>\n",
       "    </tr>\n",
       "  </thead>\n",
       "  <tbody>\n",
       "    <tr>\n",
       "      <th>longitude</th>\n",
       "      <td>1.000000</td>\n",
       "      <td>-0.925208</td>\n",
       "      <td>-0.114250</td>\n",
       "      <td>0.047010</td>\n",
       "      <td>0.071802</td>\n",
       "      <td>0.101674</td>\n",
       "      <td>0.059628</td>\n",
       "      <td>-0.015485</td>\n",
       "    </tr>\n",
       "    <tr>\n",
       "      <th>latitude</th>\n",
       "      <td>-0.925208</td>\n",
       "      <td>1.000000</td>\n",
       "      <td>0.016454</td>\n",
       "      <td>-0.038773</td>\n",
       "      <td>-0.069373</td>\n",
       "      <td>-0.111261</td>\n",
       "      <td>-0.074902</td>\n",
       "      <td>-0.080303</td>\n",
       "    </tr>\n",
       "    <tr>\n",
       "      <th>housing_median_age</th>\n",
       "      <td>-0.114250</td>\n",
       "      <td>0.016454</td>\n",
       "      <td>1.000000</td>\n",
       "      <td>-0.360984</td>\n",
       "      <td>-0.320434</td>\n",
       "      <td>-0.295890</td>\n",
       "      <td>-0.302754</td>\n",
       "      <td>-0.115932</td>\n",
       "    </tr>\n",
       "    <tr>\n",
       "      <th>total_rooms</th>\n",
       "      <td>0.047010</td>\n",
       "      <td>-0.038773</td>\n",
       "      <td>-0.360984</td>\n",
       "      <td>1.000000</td>\n",
       "      <td>0.928403</td>\n",
       "      <td>0.860170</td>\n",
       "      <td>0.919018</td>\n",
       "      <td>0.195383</td>\n",
       "    </tr>\n",
       "    <tr>\n",
       "      <th>total_bedrooms</th>\n",
       "      <td>0.071802</td>\n",
       "      <td>-0.069373</td>\n",
       "      <td>-0.320434</td>\n",
       "      <td>0.928403</td>\n",
       "      <td>1.000000</td>\n",
       "      <td>0.881169</td>\n",
       "      <td>0.980920</td>\n",
       "      <td>-0.013495</td>\n",
       "    </tr>\n",
       "    <tr>\n",
       "      <th>population</th>\n",
       "      <td>0.101674</td>\n",
       "      <td>-0.111261</td>\n",
       "      <td>-0.295890</td>\n",
       "      <td>0.860170</td>\n",
       "      <td>0.881169</td>\n",
       "      <td>1.000000</td>\n",
       "      <td>0.909247</td>\n",
       "      <td>-0.000638</td>\n",
       "    </tr>\n",
       "    <tr>\n",
       "      <th>households</th>\n",
       "      <td>0.059628</td>\n",
       "      <td>-0.074902</td>\n",
       "      <td>-0.302754</td>\n",
       "      <td>0.919018</td>\n",
       "      <td>0.980920</td>\n",
       "      <td>0.909247</td>\n",
       "      <td>1.000000</td>\n",
       "      <td>0.007644</td>\n",
       "    </tr>\n",
       "    <tr>\n",
       "      <th>median_income</th>\n",
       "      <td>-0.015485</td>\n",
       "      <td>-0.080303</td>\n",
       "      <td>-0.115932</td>\n",
       "      <td>0.195383</td>\n",
       "      <td>-0.013495</td>\n",
       "      <td>-0.000638</td>\n",
       "      <td>0.007644</td>\n",
       "      <td>1.000000</td>\n",
       "    </tr>\n",
       "  </tbody>\n",
       "</table>\n",
       "</div>"
      ]
     },
     "metadata": {},
     "execution_count": 10
    }
   ],
   "metadata": {}
  },
  {
   "cell_type": "code",
   "execution_count": 11,
   "source": [
    "features.corr().style.background_gradient().set_precision(2)"
   ],
   "outputs": [
    {
     "output_type": "execute_result",
     "data": {
      "text/plain": [
       "<pandas.io.formats.style.Styler at 0x1eca2ccb640>"
      ],
      "text/html": [
       "<style  type=\"text/css\" >\n",
       "#T_9747c_row0_col0,#T_9747c_row1_col1,#T_9747c_row2_col2,#T_9747c_row3_col3,#T_9747c_row4_col4,#T_9747c_row5_col5,#T_9747c_row6_col6,#T_9747c_row7_col7{\n",
       "            background-color:  #023858;\n",
       "            color:  #f1f1f1;\n",
       "        }#T_9747c_row0_col1,#T_9747c_row1_col0,#T_9747c_row2_col3,#T_9747c_row2_col4,#T_9747c_row2_col5,#T_9747c_row2_col6,#T_9747c_row2_col7,#T_9747c_row3_col2{\n",
       "            background-color:  #fff7fb;\n",
       "            color:  #000000;\n",
       "        }#T_9747c_row0_col2,#T_9747c_row7_col2{\n",
       "            background-color:  #e0dded;\n",
       "            color:  #000000;\n",
       "        }#T_9747c_row0_col3,#T_9747c_row0_col4{\n",
       "            background-color:  #c0c9e2;\n",
       "            color:  #000000;\n",
       "        }#T_9747c_row0_col5{\n",
       "            background-color:  #bdc8e1;\n",
       "            color:  #000000;\n",
       "        }#T_9747c_row0_col6,#T_9747c_row3_col7{\n",
       "            background-color:  #c6cce3;\n",
       "            color:  #000000;\n",
       "        }#T_9747c_row0_col7,#T_9747c_row4_col7{\n",
       "            background-color:  #f1ebf5;\n",
       "            color:  #000000;\n",
       "        }#T_9747c_row1_col2{\n",
       "            background-color:  #c8cde4;\n",
       "            color:  #000000;\n",
       "        }#T_9747c_row1_col3,#T_9747c_row7_col6{\n",
       "            background-color:  #d3d4e7;\n",
       "            color:  #000000;\n",
       "        }#T_9747c_row1_col4{\n",
       "            background-color:  #dedcec;\n",
       "            color:  #000000;\n",
       "        }#T_9747c_row1_col5{\n",
       "            background-color:  #e8e4f0;\n",
       "            color:  #000000;\n",
       "        }#T_9747c_row1_col6{\n",
       "            background-color:  #e1dfed;\n",
       "            color:  #000000;\n",
       "        }#T_9747c_row1_col7{\n",
       "            background-color:  #faf3f9;\n",
       "            color:  #000000;\n",
       "        }#T_9747c_row2_col0{\n",
       "            background-color:  #94b6d7;\n",
       "            color:  #000000;\n",
       "        }#T_9747c_row2_col1{\n",
       "            background-color:  #78abd0;\n",
       "            color:  #000000;\n",
       "        }#T_9747c_row3_col0{\n",
       "            background-color:  #71a8ce;\n",
       "            color:  #000000;\n",
       "        }#T_9747c_row3_col1{\n",
       "            background-color:  #84b0d3;\n",
       "            color:  #000000;\n",
       "        }#T_9747c_row3_col4,#T_9747c_row4_col3{\n",
       "            background-color:  #03466e;\n",
       "            color:  #f1f1f1;\n",
       "        }#T_9747c_row3_col5{\n",
       "            background-color:  #045585;\n",
       "            color:  #f1f1f1;\n",
       "        }#T_9747c_row3_col6,#T_9747c_row6_col3{\n",
       "            background-color:  #034871;\n",
       "            color:  #f1f1f1;\n",
       "        }#T_9747c_row4_col0{\n",
       "            background-color:  #6ba5cd;\n",
       "            color:  #000000;\n",
       "        }#T_9747c_row4_col1,#T_9747c_row6_col1{\n",
       "            background-color:  #8bb2d4;\n",
       "            color:  #000000;\n",
       "        }#T_9747c_row4_col2{\n",
       "            background-color:  #fbf3f9;\n",
       "            color:  #000000;\n",
       "        }#T_9747c_row4_col5,#T_9747c_row5_col4{\n",
       "            background-color:  #03517e;\n",
       "            color:  #f1f1f1;\n",
       "        }#T_9747c_row4_col6,#T_9747c_row6_col4{\n",
       "            background-color:  #023b5d;\n",
       "            color:  #f1f1f1;\n",
       "        }#T_9747c_row5_col0{\n",
       "            background-color:  #63a2cb;\n",
       "            color:  #000000;\n",
       "        }#T_9747c_row5_col1{\n",
       "            background-color:  #93b5d6;\n",
       "            color:  #000000;\n",
       "        }#T_9747c_row5_col2{\n",
       "            background-color:  #f8f1f8;\n",
       "            color:  #000000;\n",
       "        }#T_9747c_row5_col3{\n",
       "            background-color:  #045483;\n",
       "            color:  #f1f1f1;\n",
       "        }#T_9747c_row5_col6,#T_9747c_row6_col5{\n",
       "            background-color:  #034a74;\n",
       "            color:  #f1f1f1;\n",
       "        }#T_9747c_row5_col7{\n",
       "            background-color:  #f0eaf4;\n",
       "            color:  #000000;\n",
       "        }#T_9747c_row6_col0{\n",
       "            background-color:  #6fa7ce;\n",
       "            color:  #000000;\n",
       "        }#T_9747c_row6_col2{\n",
       "            background-color:  #f9f2f8;\n",
       "            color:  #000000;\n",
       "        }#T_9747c_row6_col7{\n",
       "            background-color:  #eee9f3;\n",
       "            color:  #000000;\n",
       "        }#T_9747c_row7_col0{\n",
       "            background-color:  #80aed2;\n",
       "            color:  #000000;\n",
       "        }#T_9747c_row7_col1{\n",
       "            background-color:  #8cb3d5;\n",
       "            color:  #000000;\n",
       "        }#T_9747c_row7_col3{\n",
       "            background-color:  #99b8d8;\n",
       "            color:  #000000;\n",
       "        }#T_9747c_row7_col4{\n",
       "            background-color:  #d4d4e8;\n",
       "            color:  #000000;\n",
       "        }#T_9747c_row7_col5{\n",
       "            background-color:  #d5d5e8;\n",
       "            color:  #000000;\n",
       "        }</style><table id=\"T_9747c_\" ><thead>    <tr>        <th class=\"blank level0\" ></th>        <th class=\"col_heading level0 col0\" >longitude</th>        <th class=\"col_heading level0 col1\" >latitude</th>        <th class=\"col_heading level0 col2\" >housing_median_age</th>        <th class=\"col_heading level0 col3\" >total_rooms</th>        <th class=\"col_heading level0 col4\" >total_bedrooms</th>        <th class=\"col_heading level0 col5\" >population</th>        <th class=\"col_heading level0 col6\" >households</th>        <th class=\"col_heading level0 col7\" >median_income</th>    </tr></thead><tbody>\n",
       "                <tr>\n",
       "                        <th id=\"T_9747c_level0_row0\" class=\"row_heading level0 row0\" >longitude</th>\n",
       "                        <td id=\"T_9747c_row0_col0\" class=\"data row0 col0\" >1.00</td>\n",
       "                        <td id=\"T_9747c_row0_col1\" class=\"data row0 col1\" >-0.93</td>\n",
       "                        <td id=\"T_9747c_row0_col2\" class=\"data row0 col2\" >-0.11</td>\n",
       "                        <td id=\"T_9747c_row0_col3\" class=\"data row0 col3\" >0.05</td>\n",
       "                        <td id=\"T_9747c_row0_col4\" class=\"data row0 col4\" >0.07</td>\n",
       "                        <td id=\"T_9747c_row0_col5\" class=\"data row0 col5\" >0.10</td>\n",
       "                        <td id=\"T_9747c_row0_col6\" class=\"data row0 col6\" >0.06</td>\n",
       "                        <td id=\"T_9747c_row0_col7\" class=\"data row0 col7\" >-0.02</td>\n",
       "            </tr>\n",
       "            <tr>\n",
       "                        <th id=\"T_9747c_level0_row1\" class=\"row_heading level0 row1\" >latitude</th>\n",
       "                        <td id=\"T_9747c_row1_col0\" class=\"data row1 col0\" >-0.93</td>\n",
       "                        <td id=\"T_9747c_row1_col1\" class=\"data row1 col1\" >1.00</td>\n",
       "                        <td id=\"T_9747c_row1_col2\" class=\"data row1 col2\" >0.02</td>\n",
       "                        <td id=\"T_9747c_row1_col3\" class=\"data row1 col3\" >-0.04</td>\n",
       "                        <td id=\"T_9747c_row1_col4\" class=\"data row1 col4\" >-0.07</td>\n",
       "                        <td id=\"T_9747c_row1_col5\" class=\"data row1 col5\" >-0.11</td>\n",
       "                        <td id=\"T_9747c_row1_col6\" class=\"data row1 col6\" >-0.07</td>\n",
       "                        <td id=\"T_9747c_row1_col7\" class=\"data row1 col7\" >-0.08</td>\n",
       "            </tr>\n",
       "            <tr>\n",
       "                        <th id=\"T_9747c_level0_row2\" class=\"row_heading level0 row2\" >housing_median_age</th>\n",
       "                        <td id=\"T_9747c_row2_col0\" class=\"data row2 col0\" >-0.11</td>\n",
       "                        <td id=\"T_9747c_row2_col1\" class=\"data row2 col1\" >0.02</td>\n",
       "                        <td id=\"T_9747c_row2_col2\" class=\"data row2 col2\" >1.00</td>\n",
       "                        <td id=\"T_9747c_row2_col3\" class=\"data row2 col3\" >-0.36</td>\n",
       "                        <td id=\"T_9747c_row2_col4\" class=\"data row2 col4\" >-0.32</td>\n",
       "                        <td id=\"T_9747c_row2_col5\" class=\"data row2 col5\" >-0.30</td>\n",
       "                        <td id=\"T_9747c_row2_col6\" class=\"data row2 col6\" >-0.30</td>\n",
       "                        <td id=\"T_9747c_row2_col7\" class=\"data row2 col7\" >-0.12</td>\n",
       "            </tr>\n",
       "            <tr>\n",
       "                        <th id=\"T_9747c_level0_row3\" class=\"row_heading level0 row3\" >total_rooms</th>\n",
       "                        <td id=\"T_9747c_row3_col0\" class=\"data row3 col0\" >0.05</td>\n",
       "                        <td id=\"T_9747c_row3_col1\" class=\"data row3 col1\" >-0.04</td>\n",
       "                        <td id=\"T_9747c_row3_col2\" class=\"data row3 col2\" >-0.36</td>\n",
       "                        <td id=\"T_9747c_row3_col3\" class=\"data row3 col3\" >1.00</td>\n",
       "                        <td id=\"T_9747c_row3_col4\" class=\"data row3 col4\" >0.93</td>\n",
       "                        <td id=\"T_9747c_row3_col5\" class=\"data row3 col5\" >0.86</td>\n",
       "                        <td id=\"T_9747c_row3_col6\" class=\"data row3 col6\" >0.92</td>\n",
       "                        <td id=\"T_9747c_row3_col7\" class=\"data row3 col7\" >0.20</td>\n",
       "            </tr>\n",
       "            <tr>\n",
       "                        <th id=\"T_9747c_level0_row4\" class=\"row_heading level0 row4\" >total_bedrooms</th>\n",
       "                        <td id=\"T_9747c_row4_col0\" class=\"data row4 col0\" >0.07</td>\n",
       "                        <td id=\"T_9747c_row4_col1\" class=\"data row4 col1\" >-0.07</td>\n",
       "                        <td id=\"T_9747c_row4_col2\" class=\"data row4 col2\" >-0.32</td>\n",
       "                        <td id=\"T_9747c_row4_col3\" class=\"data row4 col3\" >0.93</td>\n",
       "                        <td id=\"T_9747c_row4_col4\" class=\"data row4 col4\" >1.00</td>\n",
       "                        <td id=\"T_9747c_row4_col5\" class=\"data row4 col5\" >0.88</td>\n",
       "                        <td id=\"T_9747c_row4_col6\" class=\"data row4 col6\" >0.98</td>\n",
       "                        <td id=\"T_9747c_row4_col7\" class=\"data row4 col7\" >-0.01</td>\n",
       "            </tr>\n",
       "            <tr>\n",
       "                        <th id=\"T_9747c_level0_row5\" class=\"row_heading level0 row5\" >population</th>\n",
       "                        <td id=\"T_9747c_row5_col0\" class=\"data row5 col0\" >0.10</td>\n",
       "                        <td id=\"T_9747c_row5_col1\" class=\"data row5 col1\" >-0.11</td>\n",
       "                        <td id=\"T_9747c_row5_col2\" class=\"data row5 col2\" >-0.30</td>\n",
       "                        <td id=\"T_9747c_row5_col3\" class=\"data row5 col3\" >0.86</td>\n",
       "                        <td id=\"T_9747c_row5_col4\" class=\"data row5 col4\" >0.88</td>\n",
       "                        <td id=\"T_9747c_row5_col5\" class=\"data row5 col5\" >1.00</td>\n",
       "                        <td id=\"T_9747c_row5_col6\" class=\"data row5 col6\" >0.91</td>\n",
       "                        <td id=\"T_9747c_row5_col7\" class=\"data row5 col7\" >-0.00</td>\n",
       "            </tr>\n",
       "            <tr>\n",
       "                        <th id=\"T_9747c_level0_row6\" class=\"row_heading level0 row6\" >households</th>\n",
       "                        <td id=\"T_9747c_row6_col0\" class=\"data row6 col0\" >0.06</td>\n",
       "                        <td id=\"T_9747c_row6_col1\" class=\"data row6 col1\" >-0.07</td>\n",
       "                        <td id=\"T_9747c_row6_col2\" class=\"data row6 col2\" >-0.30</td>\n",
       "                        <td id=\"T_9747c_row6_col3\" class=\"data row6 col3\" >0.92</td>\n",
       "                        <td id=\"T_9747c_row6_col4\" class=\"data row6 col4\" >0.98</td>\n",
       "                        <td id=\"T_9747c_row6_col5\" class=\"data row6 col5\" >0.91</td>\n",
       "                        <td id=\"T_9747c_row6_col6\" class=\"data row6 col6\" >1.00</td>\n",
       "                        <td id=\"T_9747c_row6_col7\" class=\"data row6 col7\" >0.01</td>\n",
       "            </tr>\n",
       "            <tr>\n",
       "                        <th id=\"T_9747c_level0_row7\" class=\"row_heading level0 row7\" >median_income</th>\n",
       "                        <td id=\"T_9747c_row7_col0\" class=\"data row7 col0\" >-0.02</td>\n",
       "                        <td id=\"T_9747c_row7_col1\" class=\"data row7 col1\" >-0.08</td>\n",
       "                        <td id=\"T_9747c_row7_col2\" class=\"data row7 col2\" >-0.12</td>\n",
       "                        <td id=\"T_9747c_row7_col3\" class=\"data row7 col3\" >0.20</td>\n",
       "                        <td id=\"T_9747c_row7_col4\" class=\"data row7 col4\" >-0.01</td>\n",
       "                        <td id=\"T_9747c_row7_col5\" class=\"data row7 col5\" >-0.00</td>\n",
       "                        <td id=\"T_9747c_row7_col6\" class=\"data row7 col6\" >0.01</td>\n",
       "                        <td id=\"T_9747c_row7_col7\" class=\"data row7 col7\" >1.00</td>\n",
       "            </tr>\n",
       "    </tbody></table>"
      ]
     },
     "metadata": {},
     "execution_count": 11
    }
   ],
   "metadata": {}
  },
  {
   "cell_type": "code",
   "execution_count": 12,
   "source": [
    "def visualCorr(x, width=15, height=7):\r\n",
    "    plt.figure(figsize=(width,height))\r\n",
    "    mask = np.zeros_like(x.corr(), dtype=np.bool)\r\n",
    "    mask[np.triu_indices_from(mask)] = True\r\n",
    "    sns.heatmap(x.corr(), annot=True, fmt='.2f', mask=mask, cmap='seismic')\r\n",
    "    plt.show()"
   ],
   "outputs": [],
   "metadata": {}
  },
  {
   "cell_type": "code",
   "execution_count": 13,
   "source": [
    "visualCorr(features)"
   ],
   "outputs": [
    {
     "output_type": "stream",
     "name": "stderr",
     "text": [
      "<ipython-input-12-f2c3167f46c8>:3: DeprecationWarning: `np.bool` is a deprecated alias for the builtin `bool`. To silence this warning, use `bool` by itself. Doing this will not modify any behavior and is safe. If you specifically wanted the numpy scalar type, use `np.bool_` here.\n",
      "Deprecated in NumPy 1.20; for more details and guidance: https://numpy.org/devdocs/release/1.20.0-notes.html#deprecations\n",
      "  mask = np.zeros_like(x.corr(), dtype=np.bool)\n"
     ]
    },
    {
     "output_type": "display_data",
     "data": {
      "text/plain": [
       "<Figure size 1080x504 with 2 Axes>"
      ],
      "image/png": "[encoded data removed]"
     },
     "metadata": {
      "needs_background": "light"
     }
    }
   ],
   "metadata": {}
  },
  {
   "cell_type": "code",
   "execution_count": 14,
   "source": [
    "dt.visualCorr(features)"
   ],
   "outputs": [
    {
     "output_type": "display_data",
     "data": {
      "text/plain": [
       "<Figure size 1080x504 with 2 Axes>"
      ],
      "image/png": "[encoded data removed]"
     },
     "metadata": {
      "needs_background": "light"
     }
    }
   ],
   "metadata": {}
  },
  {
   "cell_type": "code",
   "execution_count": 15,
   "source": [
    "visualCorr(features.drop(columns=['latitude','total_bedrooms','population','households']))"
   ],
   "outputs": [
    {
     "output_type": "stream",
     "name": "stderr",
     "text": [
      "<ipython-input-12-f2c3167f46c8>:3: DeprecationWarning: `np.bool` is a deprecated alias for the builtin `bool`. To silence this warning, use `bool` by itself. Doing this will not modify any behavior and is safe. If you specifically wanted the numpy scalar type, use `np.bool_` here.\n",
      "Deprecated in NumPy 1.20; for more details and guidance: https://numpy.org/devdocs/release/1.20.0-notes.html#deprecations\n",
      "  mask = np.zeros_like(x.corr(), dtype=np.bool)\n"
     ]
    },
    {
     "output_type": "display_data",
     "data": {
      "text/plain": [
       "<Figure size 1080x504 with 2 Axes>"
      ],
      "image/png": "[encoded data removed]"
     },
     "metadata": {
      "needs_background": "light"
     }
    }
   ],
   "metadata": {}
  },
  {
   "cell_type": "code",
   "execution_count": 16,
   "source": [
    "from statsmodels.stats.outliers_influence import variance_inflation_factor\r\n",
    "def vif(x):\r\n",
    "    vifFrame = pd.DataFrame()\r\n",
    "    vifFrame['vif factor'] = [variance_inflation_factor(x.values, i) for i in range(x.shape[1]) ]\r\n",
    "    vifFrame['features'] = x.columns\r\n",
    "    return vifFrame"
   ],
   "outputs": [],
   "metadata": {}
  },
  {
   "cell_type": "code",
   "execution_count": 17,
   "source": [
    "vif(features)"
   ],
   "outputs": [
    {
     "output_type": "execute_result",
     "data": {
      "text/plain": [
       "   vif factor            features\n",
       "0  615.268673           longitude\n",
       "1  549.530177            latitude\n",
       "2    7.271744  housing_median_age\n",
       "3   30.044820         total_rooms\n",
       "4   96.656002      total_bedrooms\n",
       "5   16.638519          population\n",
       "6   96.284435          households\n",
       "7    8.253099       median_income"
      ],
      "text/html": [
       "<div>\n",
       "<style scoped>\n",
       "    .dataframe tbody tr th:only-of-type {\n",
       "        vertical-align: middle;\n",
       "    }\n",
       "\n",
       "    .dataframe tbody tr th {\n",
       "        vertical-align: top;\n",
       "    }\n",
       "\n",
       "    .dataframe thead th {\n",
       "        text-align: right;\n",
       "    }\n",
       "</style>\n",
       "<table border=\"1\" class=\"dataframe\">\n",
       "  <thead>\n",
       "    <tr style=\"text-align: right;\">\n",
       "      <th></th>\n",
       "      <th>vif factor</th>\n",
       "      <th>features</th>\n",
       "    </tr>\n",
       "  </thead>\n",
       "  <tbody>\n",
       "    <tr>\n",
       "      <th>0</th>\n",
       "      <td>615.268673</td>\n",
       "      <td>longitude</td>\n",
       "    </tr>\n",
       "    <tr>\n",
       "      <th>1</th>\n",
       "      <td>549.530177</td>\n",
       "      <td>latitude</td>\n",
       "    </tr>\n",
       "    <tr>\n",
       "      <th>2</th>\n",
       "      <td>7.271744</td>\n",
       "      <td>housing_median_age</td>\n",
       "    </tr>\n",
       "    <tr>\n",
       "      <th>3</th>\n",
       "      <td>30.044820</td>\n",
       "      <td>total_rooms</td>\n",
       "    </tr>\n",
       "    <tr>\n",
       "      <th>4</th>\n",
       "      <td>96.656002</td>\n",
       "      <td>total_bedrooms</td>\n",
       "    </tr>\n",
       "    <tr>\n",
       "      <th>5</th>\n",
       "      <td>16.638519</td>\n",
       "      <td>population</td>\n",
       "    </tr>\n",
       "    <tr>\n",
       "      <th>6</th>\n",
       "      <td>96.284435</td>\n",
       "      <td>households</td>\n",
       "    </tr>\n",
       "    <tr>\n",
       "      <th>7</th>\n",
       "      <td>8.253099</td>\n",
       "      <td>median_income</td>\n",
       "    </tr>\n",
       "  </tbody>\n",
       "</table>\n",
       "</div>"
      ]
     },
     "metadata": {},
     "execution_count": 17
    }
   ],
   "metadata": {}
  },
  {
   "cell_type": "code",
   "execution_count": 18,
   "source": [
    "vif(features.drop(columns=['longitude','latitude']))"
   ],
   "outputs": [
    {
     "output_type": "execute_result",
     "data": {
      "text/plain": [
       "   vif factor            features\n",
       "0    3.574735  housing_median_age\n",
       "1   27.014005         total_rooms\n",
       "2   89.215256      total_bedrooms\n",
       "3   15.802222          population\n",
       "4   95.172568          households\n",
       "5    4.805563       median_income"
      ],
      "text/html": [
       "<div>\n",
       "<style scoped>\n",
       "    .dataframe tbody tr th:only-of-type {\n",
       "        vertical-align: middle;\n",
       "    }\n",
       "\n",
       "    .dataframe tbody tr th {\n",
       "        vertical-align: top;\n",
       "    }\n",
       "\n",
       "    .dataframe thead th {\n",
       "        text-align: right;\n",
       "    }\n",
       "</style>\n",
       "<table border=\"1\" class=\"dataframe\">\n",
       "  <thead>\n",
       "    <tr style=\"text-align: right;\">\n",
       "      <th></th>\n",
       "      <th>vif factor</th>\n",
       "      <th>features</th>\n",
       "    </tr>\n",
       "  </thead>\n",
       "  <tbody>\n",
       "    <tr>\n",
       "      <th>0</th>\n",
       "      <td>3.574735</td>\n",
       "      <td>housing_median_age</td>\n",
       "    </tr>\n",
       "    <tr>\n",
       "      <th>1</th>\n",
       "      <td>27.014005</td>\n",
       "      <td>total_rooms</td>\n",
       "    </tr>\n",
       "    <tr>\n",
       "      <th>2</th>\n",
       "      <td>89.215256</td>\n",
       "      <td>total_bedrooms</td>\n",
       "    </tr>\n",
       "    <tr>\n",
       "      <th>3</th>\n",
       "      <td>15.802222</td>\n",
       "      <td>population</td>\n",
       "    </tr>\n",
       "    <tr>\n",
       "      <th>4</th>\n",
       "      <td>95.172568</td>\n",
       "      <td>households</td>\n",
       "    </tr>\n",
       "    <tr>\n",
       "      <th>5</th>\n",
       "      <td>4.805563</td>\n",
       "      <td>median_income</td>\n",
       "    </tr>\n",
       "  </tbody>\n",
       "</table>\n",
       "</div>"
      ]
     },
     "metadata": {},
     "execution_count": 18
    }
   ],
   "metadata": {}
  },
  {
   "cell_type": "code",
   "execution_count": 19,
   "source": [
    "vif(features.drop(columns=['longitude','latitude','total_bedrooms','households']))"
   ],
   "outputs": [
    {
     "output_type": "execute_result",
     "data": {
      "text/plain": [
       "   vif factor            features\n",
       "0    3.124396  housing_median_age\n",
       "1   11.549540         total_rooms\n",
       "2   10.325695          population\n",
       "3    4.182617       median_income"
      ],
      "text/html": [
       "<div>\n",
       "<style scoped>\n",
       "    .dataframe tbody tr th:only-of-type {\n",
       "        vertical-align: middle;\n",
       "    }\n",
       "\n",
       "    .dataframe tbody tr th {\n",
       "        vertical-align: top;\n",
       "    }\n",
       "\n",
       "    .dataframe thead th {\n",
       "        text-align: right;\n",
       "    }\n",
       "</style>\n",
       "<table border=\"1\" class=\"dataframe\">\n",
       "  <thead>\n",
       "    <tr style=\"text-align: right;\">\n",
       "      <th></th>\n",
       "      <th>vif factor</th>\n",
       "      <th>features</th>\n",
       "    </tr>\n",
       "  </thead>\n",
       "  <tbody>\n",
       "    <tr>\n",
       "      <th>0</th>\n",
       "      <td>3.124396</td>\n",
       "      <td>housing_median_age</td>\n",
       "    </tr>\n",
       "    <tr>\n",
       "      <th>1</th>\n",
       "      <td>11.549540</td>\n",
       "      <td>total_rooms</td>\n",
       "    </tr>\n",
       "    <tr>\n",
       "      <th>2</th>\n",
       "      <td>10.325695</td>\n",
       "      <td>population</td>\n",
       "    </tr>\n",
       "    <tr>\n",
       "      <th>3</th>\n",
       "      <td>4.182617</td>\n",
       "      <td>median_income</td>\n",
       "    </tr>\n",
       "  </tbody>\n",
       "</table>\n",
       "</div>"
      ]
     },
     "metadata": {},
     "execution_count": 19
    }
   ],
   "metadata": {}
  },
  {
   "cell_type": "code",
   "execution_count": 20,
   "source": [
    "vif(features.drop(columns=['longitude','latitude','total_bedrooms','households', 'total_rooms']))"
   ],
   "outputs": [
    {
     "output_type": "execute_result",
     "data": {
      "text/plain": [
       "   vif factor            features\n",
       "0    2.885765  housing_median_age\n",
       "1    2.027615          population\n",
       "2    3.344828       median_income"
      ],
      "text/html": [
       "<div>\n",
       "<style scoped>\n",
       "    .dataframe tbody tr th:only-of-type {\n",
       "        vertical-align: middle;\n",
       "    }\n",
       "\n",
       "    .dataframe tbody tr th {\n",
       "        vertical-align: top;\n",
       "    }\n",
       "\n",
       "    .dataframe thead th {\n",
       "        text-align: right;\n",
       "    }\n",
       "</style>\n",
       "<table border=\"1\" class=\"dataframe\">\n",
       "  <thead>\n",
       "    <tr style=\"text-align: right;\">\n",
       "      <th></th>\n",
       "      <th>vif factor</th>\n",
       "      <th>features</th>\n",
       "    </tr>\n",
       "  </thead>\n",
       "  <tbody>\n",
       "    <tr>\n",
       "      <th>0</th>\n",
       "      <td>2.885765</td>\n",
       "      <td>housing_median_age</td>\n",
       "    </tr>\n",
       "    <tr>\n",
       "      <th>1</th>\n",
       "      <td>2.027615</td>\n",
       "      <td>population</td>\n",
       "    </tr>\n",
       "    <tr>\n",
       "      <th>2</th>\n",
       "      <td>3.344828</td>\n",
       "      <td>median_income</td>\n",
       "    </tr>\n",
       "  </tbody>\n",
       "</table>\n",
       "</div>"
      ]
     },
     "metadata": {},
     "execution_count": 20
    }
   ],
   "metadata": {}
  },
  {
   "cell_type": "code",
   "execution_count": 21,
   "source": [
    "dt.vif(features.drop(columns=['longitude','latitude','total_bedrooms','households', 'total_rooms']))"
   ],
   "outputs": [
    {
     "output_type": "execute_result",
     "data": {
      "text/plain": [
       "   vif factor            features\n",
       "0    2.885765  housing_median_age\n",
       "1    2.027615          population\n",
       "2    3.344828       median_income"
      ],
      "text/html": [
       "<div>\n",
       "<style scoped>\n",
       "    .dataframe tbody tr th:only-of-type {\n",
       "        vertical-align: middle;\n",
       "    }\n",
       "\n",
       "    .dataframe tbody tr th {\n",
       "        vertical-align: top;\n",
       "    }\n",
       "\n",
       "    .dataframe thead th {\n",
       "        text-align: right;\n",
       "    }\n",
       "</style>\n",
       "<table border=\"1\" class=\"dataframe\">\n",
       "  <thead>\n",
       "    <tr style=\"text-align: right;\">\n",
       "      <th></th>\n",
       "      <th>vif factor</th>\n",
       "      <th>features</th>\n",
       "    </tr>\n",
       "  </thead>\n",
       "  <tbody>\n",
       "    <tr>\n",
       "      <th>0</th>\n",
       "      <td>2.885765</td>\n",
       "      <td>housing_median_age</td>\n",
       "    </tr>\n",
       "    <tr>\n",
       "      <th>1</th>\n",
       "      <td>2.027615</td>\n",
       "      <td>population</td>\n",
       "    </tr>\n",
       "    <tr>\n",
       "      <th>2</th>\n",
       "      <td>3.344828</td>\n",
       "      <td>median_income</td>\n",
       "    </tr>\n",
       "  </tbody>\n",
       "</table>\n",
       "</div>"
      ]
     },
     "metadata": {},
     "execution_count": 21
    }
   ],
   "metadata": {}
  },
  {
   "cell_type": "code",
   "execution_count": 22,
   "source": [
    "visualCorr(features.drop(columns=['longitude','latitude','total_bedrooms','households', 'total_rooms']))"
   ],
   "outputs": [
    {
     "output_type": "stream",
     "name": "stderr",
     "text": [
      "<ipython-input-12-f2c3167f46c8>:3: DeprecationWarning: `np.bool` is a deprecated alias for the builtin `bool`. To silence this warning, use `bool` by itself. Doing this will not modify any behavior and is safe. If you specifically wanted the numpy scalar type, use `np.bool_` here.\n",
      "Deprecated in NumPy 1.20; for more details and guidance: https://numpy.org/devdocs/release/1.20.0-notes.html#deprecations\n",
      "  mask = np.zeros_like(x.corr(), dtype=np.bool)\n"
     ]
    },
    {
     "output_type": "display_data",
     "data": {
      "text/plain": [
       "<Figure size 1080x504 with 2 Axes>"
      ],
      "image/png": "[encoded data removed]"
     },
     "metadata": {
      "needs_background": "light"
     }
    }
   ],
   "metadata": {}
  },
  {
   "cell_type": "code",
   "execution_count": 23,
   "source": [
    "multicolli_features = features.drop(columns=['longitude','latitude','total_bedrooms','households', 'total_rooms'])"
   ],
   "outputs": [],
   "metadata": {}
  },
  {
   "cell_type": "code",
   "execution_count": 24,
   "source": [
    "multicolli_features"
   ],
   "outputs": [
    {
     "output_type": "execute_result",
     "data": {
      "text/plain": [
       "       housing_median_age  population  median_income\n",
       "0                    15.0      1015.0         1.4936\n",
       "1                    19.0      1129.0         1.8200\n",
       "2                    17.0       333.0         1.6509\n",
       "3                    14.0       515.0         3.1917\n",
       "4                    20.0       624.0         1.9250\n",
       "...                   ...         ...            ...\n",
       "16995                52.0       907.0         2.3571\n",
       "16996                36.0      1194.0         2.5179\n",
       "16997                17.0      1244.0         3.0313\n",
       "16998                19.0      1298.0         1.9797\n",
       "16999                52.0       806.0         3.0147\n",
       "\n",
       "[17000 rows x 3 columns]"
      ],
      "text/html": [
       "<div>\n",
       "<style scoped>\n",
       "    .dataframe tbody tr th:only-of-type {\n",
       "        vertical-align: middle;\n",
       "    }\n",
       "\n",
       "    .dataframe tbody tr th {\n",
       "        vertical-align: top;\n",
       "    }\n",
       "\n",
       "    .dataframe thead th {\n",
       "        text-align: right;\n",
       "    }\n",
       "</style>\n",
       "<table border=\"1\" class=\"dataframe\">\n",
       "  <thead>\n",
       "    <tr style=\"text-align: right;\">\n",
       "      <th></th>\n",
       "      <th>housing_median_age</th>\n",
       "      <th>population</th>\n",
       "      <th>median_income</th>\n",
       "    </tr>\n",
       "  </thead>\n",
       "  <tbody>\n",
       "    <tr>\n",
       "      <th>0</th>\n",
       "      <td>15.0</td>\n",
       "      <td>1015.0</td>\n",
       "      <td>1.4936</td>\n",
       "    </tr>\n",
       "    <tr>\n",
       "      <th>1</th>\n",
       "      <td>19.0</td>\n",
       "      <td>1129.0</td>\n",
       "      <td>1.8200</td>\n",
       "    </tr>\n",
       "    <tr>\n",
       "      <th>2</th>\n",
       "      <td>17.0</td>\n",
       "      <td>333.0</td>\n",
       "      <td>1.6509</td>\n",
       "    </tr>\n",
       "    <tr>\n",
       "      <th>3</th>\n",
       "      <td>14.0</td>\n",
       "      <td>515.0</td>\n",
       "      <td>3.1917</td>\n",
       "    </tr>\n",
       "    <tr>\n",
       "      <th>4</th>\n",
       "      <td>20.0</td>\n",
       "      <td>624.0</td>\n",
       "      <td>1.9250</td>\n",
       "    </tr>\n",
       "    <tr>\n",
       "      <th>...</th>\n",
       "      <td>...</td>\n",
       "      <td>...</td>\n",
       "      <td>...</td>\n",
       "    </tr>\n",
       "    <tr>\n",
       "      <th>16995</th>\n",
       "      <td>52.0</td>\n",
       "      <td>907.0</td>\n",
       "      <td>2.3571</td>\n",
       "    </tr>\n",
       "    <tr>\n",
       "      <th>16996</th>\n",
       "      <td>36.0</td>\n",
       "      <td>1194.0</td>\n",
       "      <td>2.5179</td>\n",
       "    </tr>\n",
       "    <tr>\n",
       "      <th>16997</th>\n",
       "      <td>17.0</td>\n",
       "      <td>1244.0</td>\n",
       "      <td>3.0313</td>\n",
       "    </tr>\n",
       "    <tr>\n",
       "      <th>16998</th>\n",
       "      <td>19.0</td>\n",
       "      <td>1298.0</td>\n",
       "      <td>1.9797</td>\n",
       "    </tr>\n",
       "    <tr>\n",
       "      <th>16999</th>\n",
       "      <td>52.0</td>\n",
       "      <td>806.0</td>\n",
       "      <td>3.0147</td>\n",
       "    </tr>\n",
       "  </tbody>\n",
       "</table>\n",
       "<p>17000 rows × 3 columns</p>\n",
       "</div>"
      ]
     },
     "metadata": {},
     "execution_count": 24
    }
   ],
   "metadata": {}
  },
  {
   "cell_type": "code",
   "execution_count": 25,
   "source": [
    "multicolliModel = LinearRegression().fit(multicolli_features, target)\r\n",
    "yhat = multicolliModel.predict(multicolli_features)\r\n",
    "rSquare(multicolli_features, target, yhat)"
   ],
   "outputs": [
    {
     "output_type": "execute_result",
     "data": {
      "text/plain": [
       "{'r2': 0.5150206852133975, 'adjr2': 0.5149350804861463}"
      ]
     },
     "metadata": {},
     "execution_count": 25
    }
   ],
   "metadata": {}
  },
  {
   "cell_type": "code",
   "execution_count": 26,
   "source": [
    "def forward(model, x, y, selected_columns):\r\n",
    "    forward_columns = [ col for col in features.columns if col not in selected_columns ]\r\n",
    "    result = []\r\n",
    "    for column in forward_columns:\r\n",
    "        columns = selected_columns + [column]\r\n",
    "        model = model.fit(x[columns], y)\r\n",
    "        yhat = model.predict(x[columns])\r\n",
    "        score = rSquare(x[columns], y, yhat)\r\n",
    "        result.append( {'model': model, 'score': score['adjr2'], 'columns': columns} )\r\n",
    "  \r\n",
    "    models = pd.DataFrame(result)\r\n",
    "    best_model = models.loc[ models.score.argmax() ]\r\n",
    "    return best_model"
   ],
   "outputs": [],
   "metadata": {}
  },
  {
   "cell_type": "code",
   "execution_count": 27,
   "source": [
    "def forward_selection(x, y):\r\n",
    "    selected_columns = []\r\n",
    "  \r\n",
    "    for i in range(0, x.shape[1]):\r\n",
    "        model = LinearRegression()\r\n",
    "        best_model = forward(model, features, target, selected_columns)\r\n",
    "  \r\n",
    "        if not i:\r\n",
    "            before_model = best_model\r\n",
    "        else: \r\n",
    "            if best_model.score > before_model.score: before_model = best_model\r\n",
    "            else: break\r\n",
    "        selected_columns = best_model.columns\r\n",
    "    return before_model"
   ],
   "outputs": [],
   "metadata": {}
  },
  {
   "cell_type": "code",
   "execution_count": 28,
   "source": [
    "forwardfeatures = forward_selection(features, target)\r\n",
    "forwardfeatures"
   ],
   "outputs": [
    {
     "output_type": "execute_result",
     "data": {
      "text/plain": [
       "model                                     LinearRegression()\n",
       "score                                               0.641169\n",
       "columns    [median_income, housing_median_age, total_bedr...\n",
       "Name: 0, dtype: object"
      ]
     },
     "metadata": {},
     "execution_count": 28
    }
   ],
   "metadata": {}
  },
  {
   "cell_type": "code",
   "execution_count": 29,
   "source": [
    "forwardfeatures.columns"
   ],
   "outputs": [
    {
     "output_type": "execute_result",
     "data": {
      "text/plain": [
       "['median_income',\n",
       " 'housing_median_age',\n",
       " 'total_bedrooms',\n",
       " 'population',\n",
       " 'total_rooms',\n",
       " 'latitude',\n",
       " 'longitude',\n",
       " 'households']"
      ]
     },
     "metadata": {},
     "execution_count": 29
    }
   ],
   "metadata": {}
  },
  {
   "cell_type": "code",
   "execution_count": 30,
   "source": [
    "forwardFeatures = pd.DataFrame(features[['median_income',\r\n",
    " 'housing_median_age',\r\n",
    " 'total_bedrooms',\r\n",
    " 'population',\r\n",
    " 'total_rooms',\r\n",
    " 'latitude',\r\n",
    " 'longitude',\r\n",
    " 'households']] )"
   ],
   "outputs": [],
   "metadata": {}
  },
  {
   "cell_type": "code",
   "execution_count": 31,
   "source": [
    "forwardFeatures"
   ],
   "outputs": [
    {
     "output_type": "execute_result",
     "data": {
      "text/plain": [
       "       median_income  housing_median_age  total_bedrooms  population  \\\n",
       "0             1.4936                15.0          1283.0      1015.0   \n",
       "1             1.8200                19.0          1901.0      1129.0   \n",
       "2             1.6509                17.0           174.0       333.0   \n",
       "3             3.1917                14.0           337.0       515.0   \n",
       "4             1.9250                20.0           326.0       624.0   \n",
       "...              ...                 ...             ...         ...   \n",
       "16995         2.3571                52.0           394.0       907.0   \n",
       "16996         2.5179                36.0           528.0      1194.0   \n",
       "16997         3.0313                17.0           531.0      1244.0   \n",
       "16998         1.9797                19.0           552.0      1298.0   \n",
       "16999         3.0147                52.0           300.0       806.0   \n",
       "\n",
       "       total_rooms  latitude  longitude  households  \n",
       "0           5612.0     34.19    -114.31       472.0  \n",
       "1           7650.0     34.40    -114.47       463.0  \n",
       "2            720.0     33.69    -114.56       117.0  \n",
       "3           1501.0     33.64    -114.57       226.0  \n",
       "4           1454.0     33.57    -114.57       262.0  \n",
       "...            ...       ...        ...         ...  \n",
       "16995       2217.0     40.58    -124.26       369.0  \n",
       "16996       2349.0     40.69    -124.27       465.0  \n",
       "16997       2677.0     41.84    -124.30       456.0  \n",
       "16998       2672.0     41.80    -124.30       478.0  \n",
       "16999       1820.0     40.54    -124.35       270.0  \n",
       "\n",
       "[17000 rows x 8 columns]"
      ],
      "text/html": [
       "<div>\n",
       "<style scoped>\n",
       "    .dataframe tbody tr th:only-of-type {\n",
       "        vertical-align: middle;\n",
       "    }\n",
       "\n",
       "    .dataframe tbody tr th {\n",
       "        vertical-align: top;\n",
       "    }\n",
       "\n",
       "    .dataframe thead th {\n",
       "        text-align: right;\n",
       "    }\n",
       "</style>\n",
       "<table border=\"1\" class=\"dataframe\">\n",
       "  <thead>\n",
       "    <tr style=\"text-align: right;\">\n",
       "      <th></th>\n",
       "      <th>median_income</th>\n",
       "      <th>housing_median_age</th>\n",
       "      <th>total_bedrooms</th>\n",
       "      <th>population</th>\n",
       "      <th>total_rooms</th>\n",
       "      <th>latitude</th>\n",
       "      <th>longitude</th>\n",
       "      <th>households</th>\n",
       "    </tr>\n",
       "  </thead>\n",
       "  <tbody>\n",
       "    <tr>\n",
       "      <th>0</th>\n",
       "      <td>1.4936</td>\n",
       "      <td>15.0</td>\n",
       "      <td>1283.0</td>\n",
       "      <td>1015.0</td>\n",
       "      <td>5612.0</td>\n",
       "      <td>34.19</td>\n",
       "      <td>-114.31</td>\n",
       "      <td>472.0</td>\n",
       "    </tr>\n",
       "    <tr>\n",
       "      <th>1</th>\n",
       "      <td>1.8200</td>\n",
       "      <td>19.0</td>\n",
       "      <td>1901.0</td>\n",
       "      <td>1129.0</td>\n",
       "      <td>7650.0</td>\n",
       "      <td>34.40</td>\n",
       "      <td>-114.47</td>\n",
       "      <td>463.0</td>\n",
       "    </tr>\n",
       "    <tr>\n",
       "      <th>2</th>\n",
       "      <td>1.6509</td>\n",
       "      <td>17.0</td>\n",
       "      <td>174.0</td>\n",
       "      <td>333.0</td>\n",
       "      <td>720.0</td>\n",
       "      <td>33.69</td>\n",
       "      <td>-114.56</td>\n",
       "      <td>117.0</td>\n",
       "    </tr>\n",
       "    <tr>\n",
       "      <th>3</th>\n",
       "      <td>3.1917</td>\n",
       "      <td>14.0</td>\n",
       "      <td>337.0</td>\n",
       "      <td>515.0</td>\n",
       "      <td>1501.0</td>\n",
       "      <td>33.64</td>\n",
       "      <td>-114.57</td>\n",
       "      <td>226.0</td>\n",
       "    </tr>\n",
       "    <tr>\n",
       "      <th>4</th>\n",
       "      <td>1.9250</td>\n",
       "      <td>20.0</td>\n",
       "      <td>326.0</td>\n",
       "      <td>624.0</td>\n",
       "      <td>1454.0</td>\n",
       "      <td>33.57</td>\n",
       "      <td>-114.57</td>\n",
       "      <td>262.0</td>\n",
       "    </tr>\n",
       "    <tr>\n",
       "      <th>...</th>\n",
       "      <td>...</td>\n",
       "      <td>...</td>\n",
       "      <td>...</td>\n",
       "      <td>...</td>\n",
       "      <td>...</td>\n",
       "      <td>...</td>\n",
       "      <td>...</td>\n",
       "      <td>...</td>\n",
       "    </tr>\n",
       "    <tr>\n",
       "      <th>16995</th>\n",
       "      <td>2.3571</td>\n",
       "      <td>52.0</td>\n",
       "      <td>394.0</td>\n",
       "      <td>907.0</td>\n",
       "      <td>2217.0</td>\n",
       "      <td>40.58</td>\n",
       "      <td>-124.26</td>\n",
       "      <td>369.0</td>\n",
       "    </tr>\n",
       "    <tr>\n",
       "      <th>16996</th>\n",
       "      <td>2.5179</td>\n",
       "      <td>36.0</td>\n",
       "      <td>528.0</td>\n",
       "      <td>1194.0</td>\n",
       "      <td>2349.0</td>\n",
       "      <td>40.69</td>\n",
       "      <td>-124.27</td>\n",
       "      <td>465.0</td>\n",
       "    </tr>\n",
       "    <tr>\n",
       "      <th>16997</th>\n",
       "      <td>3.0313</td>\n",
       "      <td>17.0</td>\n",
       "      <td>531.0</td>\n",
       "      <td>1244.0</td>\n",
       "      <td>2677.0</td>\n",
       "      <td>41.84</td>\n",
       "      <td>-124.30</td>\n",
       "      <td>456.0</td>\n",
       "    </tr>\n",
       "    <tr>\n",
       "      <th>16998</th>\n",
       "      <td>1.9797</td>\n",
       "      <td>19.0</td>\n",
       "      <td>552.0</td>\n",
       "      <td>1298.0</td>\n",
       "      <td>2672.0</td>\n",
       "      <td>41.80</td>\n",
       "      <td>-124.30</td>\n",
       "      <td>478.0</td>\n",
       "    </tr>\n",
       "    <tr>\n",
       "      <th>16999</th>\n",
       "      <td>3.0147</td>\n",
       "      <td>52.0</td>\n",
       "      <td>300.0</td>\n",
       "      <td>806.0</td>\n",
       "      <td>1820.0</td>\n",
       "      <td>40.54</td>\n",
       "      <td>-124.35</td>\n",
       "      <td>270.0</td>\n",
       "    </tr>\n",
       "  </tbody>\n",
       "</table>\n",
       "<p>17000 rows × 8 columns</p>\n",
       "</div>"
      ]
     },
     "metadata": {},
     "execution_count": 31
    }
   ],
   "metadata": {}
  },
  {
   "cell_type": "code",
   "execution_count": 32,
   "source": [
    "forwardModel = LinearRegression().fit(forwardFeatures, target)\r\n",
    "yhat = forwardModel.predict(forwardFeatures)\r\n",
    "rSquare(forwardFeatures, target, yhat)"
   ],
   "outputs": [
    {
     "output_type": "execute_result",
     "data": {
      "text/plain": [
       "{'r2': 0.6413378529502689, 'adjr2': 0.6411689813608158}"
      ]
     },
     "metadata": {},
     "execution_count": 32
    }
   ],
   "metadata": {}
  },
  {
   "cell_type": "code",
   "execution_count": 33,
   "source": [
    "from itertools import combinations\r\n",
    "def backward(model, x, y, selected_columns):\r\n",
    "    result = []\r\n",
    "    for combi in combinations(selected_columns, len(selected_columns)-1):\r\n",
    "        columns = list(combi)\r\n",
    "        model = model.fit(x[columns], y)\r\n",
    "        yhat = model.predict(x[columns])\r\n",
    "        score = rSquare(x[columns], y, yhat)\r\n",
    "        result.append( {'model': model, 'score': score['adjr2'], 'columns': columns} )\r\n",
    "  \r\n",
    "    models = pd.DataFrame(result)\r\n",
    "    best_model = models.loc[ models.score.argmax() ]\r\n",
    "    return best_model"
   ],
   "outputs": [],
   "metadata": {}
  },
  {
   "cell_type": "code",
   "execution_count": 34,
   "source": [
    "def backward_elimination(x, y):\r\n",
    "    selected_columns = x.columns\r\n",
    "    for i in range(0, x.shape[1]):\r\n",
    "        model = LinearRegression()\r\n",
    "        best_model = backward(model, features, target, selected_columns)\r\n",
    "        if not i:\r\n",
    "            before_model = best_model\r\n",
    "        else:\r\n",
    "            if best_model.score > before_model.score: before_model = best_model\r\n",
    "            else: break\r\n",
    "        selected_columns = best_model.columns\r\n",
    "    return before_model"
   ],
   "outputs": [],
   "metadata": {}
  },
  {
   "cell_type": "code",
   "execution_count": 35,
   "source": [
    "backwardfeatures = backward_elimination(features, target)"
   ],
   "outputs": [],
   "metadata": {}
  },
  {
   "cell_type": "code",
   "execution_count": 36,
   "source": [
    "backwardfeatures"
   ],
   "outputs": [
    {
     "output_type": "execute_result",
     "data": {
      "text/plain": [
       "model                                     LinearRegression()\n",
       "score                                               0.640579\n",
       "columns    [longitude, latitude, housing_median_age, tota...\n",
       "Name: 1, dtype: object"
      ]
     },
     "metadata": {},
     "execution_count": 36
    }
   ],
   "metadata": {}
  },
  {
   "cell_type": "code",
   "execution_count": 37,
   "source": [
    "backwardfeatures.columns"
   ],
   "outputs": [
    {
     "output_type": "execute_result",
     "data": {
      "text/plain": [
       "['longitude',\n",
       " 'latitude',\n",
       " 'housing_median_age',\n",
       " 'total_rooms',\n",
       " 'total_bedrooms',\n",
       " 'population',\n",
       " 'median_income']"
      ]
     },
     "metadata": {},
     "execution_count": 37
    }
   ],
   "metadata": {}
  },
  {
   "cell_type": "code",
   "execution_count": 38,
   "source": [
    "backwardFeatures = pd.DataFrame(features[[\r\n",
    "    'longitude',\r\n",
    "    'latitude',\r\n",
    "    'housing_median_age',\r\n",
    "    'total_rooms',\r\n",
    "    'total_bedrooms',\r\n",
    "    'population',\r\n",
    "    'median_income']])"
   ],
   "outputs": [],
   "metadata": {}
  },
  {
   "cell_type": "code",
   "execution_count": 39,
   "source": [
    "backwardModel = LinearRegression().fit(backwardFeatures, target)\r\n",
    "yhat = backwardModel.predict(backwardFeatures)\r\n",
    "rSquare(backwardfeatures, target, yhat)"
   ],
   "outputs": [
    {
     "output_type": "execute_result",
     "data": {
      "text/plain": [
       "{'r2': 0.6407268394704915, 'adjr2': 0.28145367894098294}"
      ]
     },
     "metadata": {},
     "execution_count": 39
    }
   ],
   "metadata": {}
  },
  {
   "cell_type": "code",
   "execution_count": 40,
   "source": [
    "def forward(model, x, y, selected_columns):\r\n",
    "    forward_columns = [ col for col in features.columns if col not in selected_columns ]\r\n",
    "    result = []\r\n",
    "    for column in forward_columns:\r\n",
    "        columns = selected_columns + [column]\r\n",
    "        model = model.fit(x[columns], y)\r\n",
    "        yhat = model.predict(x[columns])\r\n",
    "        score = rSquare(x[columns], y, yhat)\r\n",
    "        result.append( {'model': model, 'score': score['adjr2'], 'columns': columns} )\r\n",
    "  \r\n",
    "    models = pd.DataFrame(result)\r\n",
    "    best_model = models.loc[ models.score.argmax() ]\r\n",
    "    return best_model\r\n",
    "\r\n",
    "def backward(model, x, y, selected_columns):\r\n",
    "    result = []\r\n",
    "    for combi in combinations(selected_columns, len(selected_columns)-1):\r\n",
    "        columns = list(combi)\r\n",
    "        model = model.fit(x[columns], y)\r\n",
    "        yhat = model.predict(x[columns])\r\n",
    "        score = rSquare(x[columns], y, yhat)\r\n",
    "        result.append( {'model': model, 'score': score['adjr2'], 'columns': columns} )\r\n",
    "  \r\n",
    "    models = pd.DataFrame(result)\r\n",
    "    best_model = models.loc[ models.score.argmax() ]\r\n",
    "    return best_model"
   ],
   "outputs": [],
   "metadata": {}
  },
  {
   "cell_type": "code",
   "execution_count": 41,
   "source": [
    "def stepwise_selection(x, y):\r\n",
    "    selected_columns = []\r\n",
    "\r\n",
    "    for i in range(x.shape[1]):\r\n",
    "        model = LinearRegression()\r\n",
    "        forward_model = forward(model, x, y, selected_columns)\r\n",
    "        selected_columns = forward_model.columns\r\n",
    "\r\n",
    "        if i < 1: before_model = forward_model; continue\r\n",
    "\r\n",
    "        backward_model = backward(model, x, y, selected_columns)\r\n",
    "        large_model = forward_model\r\n",
    "        if forward_model.score < backward_model.score:\r\n",
    "            selected_columns = backward_model.columns\r\n",
    "            large_model = backward_model\r\n",
    "    \r\n",
    "        if large_model.score > before_model.score: before_model = large_model\r\n",
    "        else: break\r\n",
    "    return before_model"
   ],
   "outputs": [],
   "metadata": {}
  },
  {
   "cell_type": "code",
   "execution_count": 42,
   "source": [
    "stepwisefeatures = stepwise_selection(features, target)\r\n",
    "stepwisefeatures"
   ],
   "outputs": [
    {
     "output_type": "execute_result",
     "data": {
      "text/plain": [
       "model                                     LinearRegression()\n",
       "score                                               0.641169\n",
       "columns    [median_income, housing_median_age, total_bedr...\n",
       "Name: 0, dtype: object"
      ]
     },
     "metadata": {},
     "execution_count": 42
    }
   ],
   "metadata": {}
  },
  {
   "cell_type": "code",
   "execution_count": 43,
   "source": [
    "stepwisefeatures.columns"
   ],
   "outputs": [
    {
     "output_type": "execute_result",
     "data": {
      "text/plain": [
       "['median_income',\n",
       " 'housing_median_age',\n",
       " 'total_bedrooms',\n",
       " 'population',\n",
       " 'total_rooms',\n",
       " 'latitude',\n",
       " 'longitude',\n",
       " 'households']"
      ]
     },
     "metadata": {},
     "execution_count": 43
    }
   ],
   "metadata": {}
  },
  {
   "cell_type": "code",
   "execution_count": 44,
   "source": [
    "stepwiseFeatures = pd.DataFrame(features[['median_income',\r\n",
    " 'housing_median_age',\r\n",
    " 'total_bedrooms',\r\n",
    " 'population',\r\n",
    " 'total_rooms',\r\n",
    " 'latitude',\r\n",
    " 'longitude',\r\n",
    " 'households']])"
   ],
   "outputs": [],
   "metadata": {}
  },
  {
   "cell_type": "code",
   "execution_count": 45,
   "source": [
    "stepwiseModel = LinearRegression().fit(stepwiseFeatures, target)\r\n",
    "yhat = stepwiseModel.predict(stepwiseFeatures)\r\n",
    "rSquare(stepwiseFeatures, target, yhat)"
   ],
   "outputs": [
    {
     "output_type": "execute_result",
     "data": {
      "text/plain": [
       "{'r2': 0.6413378529502689, 'adjr2': 0.6411689813608158}"
      ]
     },
     "metadata": {},
     "execution_count": 45
    }
   ],
   "metadata": {}
  },
  {
   "cell_type": "code",
   "execution_count": 46,
   "source": [
    "import eli5\r\n",
    "from eli5.sklearn import PermutationImportance"
   ],
   "outputs": [],
   "metadata": {}
  },
  {
   "cell_type": "code",
   "execution_count": 47,
   "source": [
    "model = LinearRegression().fit(features, target)"
   ],
   "outputs": [],
   "metadata": {}
  },
  {
   "cell_type": "code",
   "execution_count": 48,
   "source": [
    "eli5.show_weights(model, feature_names = features.columns.tolist())"
   ],
   "outputs": [
    {
     "output_type": "execute_result",
     "data": {
      "text/plain": [
       "<IPython.core.display.HTML object>"
      ],
      "text/html": [
       "\n",
       "    <style>\n",
       "    table.eli5-weights tr:hover {\n",
       "        filter: brightness(85%);\n",
       "    }\n",
       "</style>\n",
       "\n",
       "\n",
       "\n",
       "    \n",
       "\n",
       "    \n",
       "\n",
       "    \n",
       "\n",
       "    \n",
       "\n",
       "    \n",
       "\n",
       "    \n",
       "\n",
       "\n",
       "    \n",
       "\n",
       "    \n",
       "\n",
       "    \n",
       "\n",
       "    \n",
       "        \n",
       "\n",
       "    \n",
       "\n",
       "        \n",
       "            \n",
       "                \n",
       "                \n",
       "    \n",
       "        <p style=\"margin-bottom: 0.5em; margin-top: 0em\">\n",
       "            <b>\n",
       "    \n",
       "        y\n",
       "    \n",
       "</b>\n",
       "\n",
       "top features\n",
       "        </p>\n",
       "    \n",
       "    <table class=\"eli5-weights\"\n",
       "           style=\"border-collapse: collapse; border: none; margin-top: 0em; table-layout: auto; margin-bottom: 2em;\">\n",
       "        <thead>\n",
       "        <tr style=\"border: none;\">\n",
       "            \n",
       "                <th style=\"padding: 0 1em 0 0.5em; text-align: right; border: none;\" title=\"Feature weights. Note that weights do not account for feature value scales, so if feature values have different scales, features with highest weights might not be the most important.\">\n",
       "                    Weight<sup>?</sup>\n",
       "                </th>\n",
       "            \n",
       "            <th style=\"padding: 0 0.5em 0 0.5em; text-align: left; border: none;\">Feature</th>\n",
       "            \n",
       "        </tr>\n",
       "        </thead>\n",
       "        <tbody>\n",
       "        \n",
       "            <tr style=\"background-color: hsl(120, 100.00%, 99.14%); border: none;\">\n",
       "    <td style=\"padding: 0 1em 0 0.5em; text-align: right; border: none;\">\n",
       "        +40507.068\n",
       "    </td>\n",
       "    <td style=\"padding: 0 0.5em 0 0.5em; text-align: left; border: none;\">\n",
       "        median_income\n",
       "    </td>\n",
       "    \n",
       "</tr>\n",
       "        \n",
       "            <tr style=\"background-color: hsl(120, 100.00%, 99.93%); border: none;\">\n",
       "    <td style=\"padding: 0 1em 0 0.5em; text-align: right; border: none;\">\n",
       "        +1150.695\n",
       "    </td>\n",
       "    <td style=\"padding: 0 0.5em 0 0.5em; text-align: left; border: none;\">\n",
       "        housing_median_age\n",
       "    </td>\n",
       "    \n",
       "</tr>\n",
       "        \n",
       "            <tr style=\"background-color: hsl(120, 100.00%, 99.99%); border: none;\">\n",
       "    <td style=\"padding: 0 1em 0 0.5em; text-align: right; border: none;\">\n",
       "        +117.649\n",
       "    </td>\n",
       "    <td style=\"padding: 0 0.5em 0 0.5em; text-align: left; border: none;\">\n",
       "        total_bedrooms\n",
       "    </td>\n",
       "    \n",
       "</tr>\n",
       "        \n",
       "            <tr style=\"background-color: hsl(120, 100.00%, 99.99%); border: none;\">\n",
       "    <td style=\"padding: 0 1em 0 0.5em; text-align: right; border: none;\">\n",
       "        +45.436\n",
       "    </td>\n",
       "    <td style=\"padding: 0 0.5em 0 0.5em; text-align: left; border: none;\">\n",
       "        households\n",
       "    </td>\n",
       "    \n",
       "</tr>\n",
       "        \n",
       "        \n",
       "\n",
       "        \n",
       "        \n",
       "            <tr style=\"background-color: hsl(0, 100.00%, 100.00%); border: none;\">\n",
       "    <td style=\"padding: 0 1em 0 0.5em; text-align: right; border: none;\">\n",
       "        -8.378\n",
       "    </td>\n",
       "    <td style=\"padding: 0 0.5em 0 0.5em; text-align: left; border: none;\">\n",
       "        total_rooms\n",
       "    </td>\n",
       "    \n",
       "</tr>\n",
       "        \n",
       "            <tr style=\"background-color: hsl(0, 100.00%, 99.99%); border: none;\">\n",
       "    <td style=\"padding: 0 1em 0 0.5em; text-align: right; border: none;\">\n",
       "        -38.489\n",
       "    </td>\n",
       "    <td style=\"padding: 0 0.5em 0 0.5em; text-align: left; border: none;\">\n",
       "        population\n",
       "    </td>\n",
       "    \n",
       "</tr>\n",
       "        \n",
       "            <tr style=\"background-color: hsl(0, 100.00%, 99.10%); border: none;\">\n",
       "    <td style=\"padding: 0 1em 0 0.5em; text-align: right; border: none;\">\n",
       "        -42925.673\n",
       "    </td>\n",
       "    <td style=\"padding: 0 0.5em 0 0.5em; text-align: left; border: none;\">\n",
       "        latitude\n",
       "    </td>\n",
       "    \n",
       "</tr>\n",
       "        \n",
       "            <tr style=\"background-color: hsl(0, 100.00%, 99.10%); border: none;\">\n",
       "    <td style=\"padding: 0 1em 0 0.5em; text-align: right; border: none;\">\n",
       "        -43139.637\n",
       "    </td>\n",
       "    <td style=\"padding: 0 0.5em 0 0.5em; text-align: left; border: none;\">\n",
       "        longitude\n",
       "    </td>\n",
       "    \n",
       "</tr>\n",
       "        \n",
       "            <tr style=\"background-color: hsl(0, 100.00%, 80.00%); border: none;\">\n",
       "    <td style=\"padding: 0 1em 0 0.5em; text-align: right; border: none;\">\n",
       "        -3620600.893\n",
       "    </td>\n",
       "    <td style=\"padding: 0 0.5em 0 0.5em; text-align: left; border: none;\">\n",
       "        &lt;BIAS&gt;\n",
       "    </td>\n",
       "    \n",
       "</tr>\n",
       "        \n",
       "\n",
       "        </tbody>\n",
       "    </table>\n",
       "\n",
       "            \n",
       "        \n",
       "\n",
       "        \n",
       "\n",
       "\n",
       "\n",
       "    \n",
       "\n",
       "    \n",
       "\n",
       "    \n",
       "\n",
       "    \n",
       "\n",
       "\n",
       "    \n",
       "\n",
       "    \n",
       "\n",
       "    \n",
       "\n",
       "    \n",
       "\n",
       "    \n",
       "\n",
       "    \n",
       "\n",
       "\n",
       "    \n",
       "\n",
       "    \n",
       "\n",
       "    \n",
       "\n",
       "    \n",
       "\n",
       "    \n",
       "\n",
       "    \n",
       "\n",
       "\n",
       "\n"
      ]
     },
     "metadata": {},
     "execution_count": 48
    }
   ],
   "metadata": {}
  },
  {
   "cell_type": "code",
   "execution_count": 49,
   "source": [
    "model = LinearRegression().fit(features, target)\r\n",
    "perm = PermutationImportance(model, random_state=123).fit(features, target)\r\n",
    "eli5.show_weights(perm, feature_names = features.columns.tolist())"
   ],
   "outputs": [
    {
     "output_type": "execute_result",
     "data": {
      "text/plain": [
       "<IPython.core.display.HTML object>"
      ],
      "text/html": [
       "\n",
       "    <style>\n",
       "    table.eli5-weights tr:hover {\n",
       "        filter: brightness(85%);\n",
       "    }\n",
       "</style>\n",
       "\n",
       "\n",
       "\n",
       "    \n",
       "\n",
       "    \n",
       "\n",
       "    \n",
       "\n",
       "    \n",
       "\n",
       "    \n",
       "\n",
       "    \n",
       "\n",
       "\n",
       "    \n",
       "\n",
       "    \n",
       "\n",
       "    \n",
       "\n",
       "    \n",
       "\n",
       "    \n",
       "\n",
       "    \n",
       "\n",
       "\n",
       "    \n",
       "\n",
       "    \n",
       "\n",
       "    \n",
       "\n",
       "    \n",
       "\n",
       "    \n",
       "        <table class=\"eli5-weights eli5-feature-importances\" style=\"border-collapse: collapse; border: none; margin-top: 0em; table-layout: auto;\">\n",
       "    <thead>\n",
       "    <tr style=\"border: none;\">\n",
       "        <th style=\"padding: 0 1em 0 0.5em; text-align: right; border: none;\">Weight</th>\n",
       "        <th style=\"padding: 0 0.5em 0 0.5em; text-align: left; border: none;\">Feature</th>\n",
       "    </tr>\n",
       "    </thead>\n",
       "    <tbody>\n",
       "    \n",
       "        <tr style=\"background-color: hsl(120, 100.00%, 80.00%); border: none;\">\n",
       "            <td style=\"padding: 0 1em 0 0.5em; text-align: right; border: none;\">\n",
       "                1.2499\n",
       "                \n",
       "                    &plusmn; 0.0340\n",
       "                \n",
       "            </td>\n",
       "            <td style=\"padding: 0 0.5em 0 0.5em; text-align: left; border: none;\">\n",
       "                latitude\n",
       "            </td>\n",
       "        </tr>\n",
       "    \n",
       "        <tr style=\"background-color: hsl(120, 100.00%, 81.52%); border: none;\">\n",
       "            <td style=\"padding: 0 1em 0 0.5em; text-align: right; border: none;\">\n",
       "                1.1162\n",
       "                \n",
       "                    &plusmn; 0.0222\n",
       "                \n",
       "            </td>\n",
       "            <td style=\"padding: 0 0.5em 0 0.5em; text-align: left; border: none;\">\n",
       "                longitude\n",
       "            </td>\n",
       "        </tr>\n",
       "    \n",
       "        <tr style=\"background-color: hsl(120, 100.00%, 84.29%); border: none;\">\n",
       "            <td style=\"padding: 0 1em 0 0.5em; text-align: right; border: none;\">\n",
       "                0.8855\n",
       "                \n",
       "                    &plusmn; 0.0256\n",
       "                \n",
       "            </td>\n",
       "            <td style=\"padding: 0 0.5em 0 0.5em; text-align: left; border: none;\">\n",
       "                median_income\n",
       "            </td>\n",
       "        </tr>\n",
       "    \n",
       "        <tr style=\"background-color: hsl(120, 100.00%, 91.54%); border: none;\">\n",
       "            <td style=\"padding: 0 1em 0 0.5em; text-align: right; border: none;\">\n",
       "                0.3658\n",
       "                \n",
       "                    &plusmn; 0.0042\n",
       "                \n",
       "            </td>\n",
       "            <td style=\"padding: 0 0.5em 0 0.5em; text-align: left; border: none;\">\n",
       "                total_bedrooms\n",
       "            </td>\n",
       "        </tr>\n",
       "    \n",
       "        <tr style=\"background-color: hsl(120, 100.00%, 92.77%); border: none;\">\n",
       "            <td style=\"padding: 0 1em 0 0.5em; text-align: right; border: none;\">\n",
       "                0.2921\n",
       "                \n",
       "                    &plusmn; 0.0032\n",
       "                \n",
       "            </td>\n",
       "            <td style=\"padding: 0 0.5em 0 0.5em; text-align: left; border: none;\">\n",
       "                population\n",
       "            </td>\n",
       "        </tr>\n",
       "    \n",
       "        <tr style=\"background-color: hsl(120, 100.00%, 97.95%); border: none;\">\n",
       "            <td style=\"padding: 0 1em 0 0.5em; text-align: right; border: none;\">\n",
       "                0.0483\n",
       "                \n",
       "                    &plusmn; 0.0031\n",
       "                \n",
       "            </td>\n",
       "            <td style=\"padding: 0 0.5em 0 0.5em; text-align: left; border: none;\">\n",
       "                total_rooms\n",
       "            </td>\n",
       "        </tr>\n",
       "    \n",
       "        <tr style=\"background-color: hsl(120, 100.00%, 98.04%); border: none;\">\n",
       "            <td style=\"padding: 0 1em 0 0.5em; text-align: right; border: none;\">\n",
       "                0.0453\n",
       "                \n",
       "                    &plusmn; 0.0021\n",
       "                \n",
       "            </td>\n",
       "            <td style=\"padding: 0 0.5em 0 0.5em; text-align: left; border: none;\">\n",
       "                households\n",
       "            </td>\n",
       "        </tr>\n",
       "    \n",
       "        <tr style=\"background-color: hsl(120, 100.00%, 98.50%); border: none;\">\n",
       "            <td style=\"padding: 0 1em 0 0.5em; text-align: right; border: none;\">\n",
       "                0.0310\n",
       "                \n",
       "                    &plusmn; 0.0017\n",
       "                \n",
       "            </td>\n",
       "            <td style=\"padding: 0 0.5em 0 0.5em; text-align: left; border: none;\">\n",
       "                housing_median_age\n",
       "            </td>\n",
       "        </tr>\n",
       "    \n",
       "    \n",
       "    </tbody>\n",
       "</table>\n",
       "    \n",
       "\n",
       "    \n",
       "\n",
       "\n",
       "    \n",
       "\n",
       "    \n",
       "\n",
       "    \n",
       "\n",
       "    \n",
       "\n",
       "    \n",
       "\n",
       "    \n",
       "\n",
       "\n",
       "\n"
      ]
     },
     "metadata": {},
     "execution_count": 49
    }
   ],
   "metadata": {}
  },
  {
   "cell_type": "code",
   "execution_count": 50,
   "source": [
    "import shap"
   ],
   "outputs": [],
   "metadata": {}
  },
  {
   "cell_type": "code",
   "execution_count": 51,
   "source": [
    "model = LinearRegression().fit(features, target)\r\n",
    "explainer = shap.LinearExplainer(model, features)\r\n",
    "shap_value = explainer.shap_values(features)\r\n",
    "shap.summary_plot(shap_value, features)"
   ],
   "outputs": [
    {
     "output_type": "display_data",
     "data": {
      "text/plain": [
       "<Figure size 576x338.4 with 2 Axes>"
      ],
      "image/png": "[encoded data removed]"
     },
     "metadata": {
      "needs_background": "light"
     }
    }
   ],
   "metadata": {}
  },
  {
   "cell_type": "code",
   "execution_count": 52,
   "source": [
    "from sklearn.feature_selection import RFE\r\n",
    "model = LinearRegression().fit(features, target)\r\n",
    "feature_selector = RFE(model, n_features_to_select=5)\r\n",
    "feature_selector = feature_selector.fit(features, target)"
   ],
   "outputs": [],
   "metadata": {}
  },
  {
   "cell_type": "code",
   "execution_count": 53,
   "source": [
    "display(feature_selector.n_features_)\r\n",
    "display(feature_selector.support_)"
   ],
   "outputs": [
    {
     "output_type": "display_data",
     "data": {
      "text/plain": [
       "5"
      ]
     },
     "metadata": {}
    },
    {
     "output_type": "display_data",
     "data": {
      "text/plain": [
       "array([ True,  True,  True, False,  True, False, False,  True])"
      ]
     },
     "metadata": {}
    }
   ],
   "metadata": {}
  },
  {
   "cell_type": "code",
   "execution_count": 137,
   "source": [
    "features.loc[:,[True, True, True, False, True, False, False, True]]"
   ],
   "outputs": [
    {
     "output_type": "execute_result",
     "data": {
      "text/plain": [
       "       longitude  latitude  housing_median_age  total_bedrooms  median_income\n",
       "0        -114.31     34.19                15.0          1283.0         1.4936\n",
       "1        -114.47     34.40                19.0          1901.0         1.8200\n",
       "2        -114.56     33.69                17.0           174.0         1.6509\n",
       "3        -114.57     33.64                14.0           337.0         3.1917\n",
       "4        -114.57     33.57                20.0           326.0         1.9250\n",
       "...          ...       ...                 ...             ...            ...\n",
       "16995    -124.26     40.58                52.0           394.0         2.3571\n",
       "16996    -124.27     40.69                36.0           528.0         2.5179\n",
       "16997    -124.30     41.84                17.0           531.0         3.0313\n",
       "16998    -124.30     41.80                19.0           552.0         1.9797\n",
       "16999    -124.35     40.54                52.0           300.0         3.0147\n",
       "\n",
       "[17000 rows x 5 columns]"
      ],
      "text/html": [
       "<div>\n",
       "<style scoped>\n",
       "    .dataframe tbody tr th:only-of-type {\n",
       "        vertical-align: middle;\n",
       "    }\n",
       "\n",
       "    .dataframe tbody tr th {\n",
       "        vertical-align: top;\n",
       "    }\n",
       "\n",
       "    .dataframe thead th {\n",
       "        text-align: right;\n",
       "    }\n",
       "</style>\n",
       "<table border=\"1\" class=\"dataframe\">\n",
       "  <thead>\n",
       "    <tr style=\"text-align: right;\">\n",
       "      <th></th>\n",
       "      <th>longitude</th>\n",
       "      <th>latitude</th>\n",
       "      <th>housing_median_age</th>\n",
       "      <th>total_bedrooms</th>\n",
       "      <th>median_income</th>\n",
       "    </tr>\n",
       "  </thead>\n",
       "  <tbody>\n",
       "    <tr>\n",
       "      <th>0</th>\n",
       "      <td>-114.31</td>\n",
       "      <td>34.19</td>\n",
       "      <td>15.0</td>\n",
       "      <td>1283.0</td>\n",
       "      <td>1.4936</td>\n",
       "    </tr>\n",
       "    <tr>\n",
       "      <th>1</th>\n",
       "      <td>-114.47</td>\n",
       "      <td>34.40</td>\n",
       "      <td>19.0</td>\n",
       "      <td>1901.0</td>\n",
       "      <td>1.8200</td>\n",
       "    </tr>\n",
       "    <tr>\n",
       "      <th>2</th>\n",
       "      <td>-114.56</td>\n",
       "      <td>33.69</td>\n",
       "      <td>17.0</td>\n",
       "      <td>174.0</td>\n",
       "      <td>1.6509</td>\n",
       "    </tr>\n",
       "    <tr>\n",
       "      <th>3</th>\n",
       "      <td>-114.57</td>\n",
       "      <td>33.64</td>\n",
       "      <td>14.0</td>\n",
       "      <td>337.0</td>\n",
       "      <td>3.1917</td>\n",
       "    </tr>\n",
       "    <tr>\n",
       "      <th>4</th>\n",
       "      <td>-114.57</td>\n",
       "      <td>33.57</td>\n",
       "      <td>20.0</td>\n",
       "      <td>326.0</td>\n",
       "      <td>1.9250</td>\n",
       "    </tr>\n",
       "    <tr>\n",
       "      <th>...</th>\n",
       "      <td>...</td>\n",
       "      <td>...</td>\n",
       "      <td>...</td>\n",
       "      <td>...</td>\n",
       "      <td>...</td>\n",
       "    </tr>\n",
       "    <tr>\n",
       "      <th>16995</th>\n",
       "      <td>-124.26</td>\n",
       "      <td>40.58</td>\n",
       "      <td>52.0</td>\n",
       "      <td>394.0</td>\n",
       "      <td>2.3571</td>\n",
       "    </tr>\n",
       "    <tr>\n",
       "      <th>16996</th>\n",
       "      <td>-124.27</td>\n",
       "      <td>40.69</td>\n",
       "      <td>36.0</td>\n",
       "      <td>528.0</td>\n",
       "      <td>2.5179</td>\n",
       "    </tr>\n",
       "    <tr>\n",
       "      <th>16997</th>\n",
       "      <td>-124.30</td>\n",
       "      <td>41.84</td>\n",
       "      <td>17.0</td>\n",
       "      <td>531.0</td>\n",
       "      <td>3.0313</td>\n",
       "    </tr>\n",
       "    <tr>\n",
       "      <th>16998</th>\n",
       "      <td>-124.30</td>\n",
       "      <td>41.80</td>\n",
       "      <td>19.0</td>\n",
       "      <td>552.0</td>\n",
       "      <td>1.9797</td>\n",
       "    </tr>\n",
       "    <tr>\n",
       "      <th>16999</th>\n",
       "      <td>-124.35</td>\n",
       "      <td>40.54</td>\n",
       "      <td>52.0</td>\n",
       "      <td>300.0</td>\n",
       "      <td>3.0147</td>\n",
       "    </tr>\n",
       "  </tbody>\n",
       "</table>\n",
       "<p>17000 rows × 5 columns</p>\n",
       "</div>"
      ]
     },
     "metadata": {},
     "execution_count": 137
    }
   ],
   "metadata": {}
  },
  {
   "cell_type": "code",
   "execution_count": 138,
   "source": [
    "features.loc[:, feature_selector.support_]"
   ],
   "outputs": [
    {
     "output_type": "execute_result",
     "data": {
      "text/plain": [
       "       longitude  latitude  housing_median_age  total_bedrooms  median_income\n",
       "0        -114.31     34.19                15.0          1283.0         1.4936\n",
       "1        -114.47     34.40                19.0          1901.0         1.8200\n",
       "2        -114.56     33.69                17.0           174.0         1.6509\n",
       "3        -114.57     33.64                14.0           337.0         3.1917\n",
       "4        -114.57     33.57                20.0           326.0         1.9250\n",
       "...          ...       ...                 ...             ...            ...\n",
       "16995    -124.26     40.58                52.0           394.0         2.3571\n",
       "16996    -124.27     40.69                36.0           528.0         2.5179\n",
       "16997    -124.30     41.84                17.0           531.0         3.0313\n",
       "16998    -124.30     41.80                19.0           552.0         1.9797\n",
       "16999    -124.35     40.54                52.0           300.0         3.0147\n",
       "\n",
       "[17000 rows x 5 columns]"
      ],
      "text/html": [
       "<div>\n",
       "<style scoped>\n",
       "    .dataframe tbody tr th:only-of-type {\n",
       "        vertical-align: middle;\n",
       "    }\n",
       "\n",
       "    .dataframe tbody tr th {\n",
       "        vertical-align: top;\n",
       "    }\n",
       "\n",
       "    .dataframe thead th {\n",
       "        text-align: right;\n",
       "    }\n",
       "</style>\n",
       "<table border=\"1\" class=\"dataframe\">\n",
       "  <thead>\n",
       "    <tr style=\"text-align: right;\">\n",
       "      <th></th>\n",
       "      <th>longitude</th>\n",
       "      <th>latitude</th>\n",
       "      <th>housing_median_age</th>\n",
       "      <th>total_bedrooms</th>\n",
       "      <th>median_income</th>\n",
       "    </tr>\n",
       "  </thead>\n",
       "  <tbody>\n",
       "    <tr>\n",
       "      <th>0</th>\n",
       "      <td>-114.31</td>\n",
       "      <td>34.19</td>\n",
       "      <td>15.0</td>\n",
       "      <td>1283.0</td>\n",
       "      <td>1.4936</td>\n",
       "    </tr>\n",
       "    <tr>\n",
       "      <th>1</th>\n",
       "      <td>-114.47</td>\n",
       "      <td>34.40</td>\n",
       "      <td>19.0</td>\n",
       "      <td>1901.0</td>\n",
       "      <td>1.8200</td>\n",
       "    </tr>\n",
       "    <tr>\n",
       "      <th>2</th>\n",
       "      <td>-114.56</td>\n",
       "      <td>33.69</td>\n",
       "      <td>17.0</td>\n",
       "      <td>174.0</td>\n",
       "      <td>1.6509</td>\n",
       "    </tr>\n",
       "    <tr>\n",
       "      <th>3</th>\n",
       "      <td>-114.57</td>\n",
       "      <td>33.64</td>\n",
       "      <td>14.0</td>\n",
       "      <td>337.0</td>\n",
       "      <td>3.1917</td>\n",
       "    </tr>\n",
       "    <tr>\n",
       "      <th>4</th>\n",
       "      <td>-114.57</td>\n",
       "      <td>33.57</td>\n",
       "      <td>20.0</td>\n",
       "      <td>326.0</td>\n",
       "      <td>1.9250</td>\n",
       "    </tr>\n",
       "    <tr>\n",
       "      <th>...</th>\n",
       "      <td>...</td>\n",
       "      <td>...</td>\n",
       "      <td>...</td>\n",
       "      <td>...</td>\n",
       "      <td>...</td>\n",
       "    </tr>\n",
       "    <tr>\n",
       "      <th>16995</th>\n",
       "      <td>-124.26</td>\n",
       "      <td>40.58</td>\n",
       "      <td>52.0</td>\n",
       "      <td>394.0</td>\n",
       "      <td>2.3571</td>\n",
       "    </tr>\n",
       "    <tr>\n",
       "      <th>16996</th>\n",
       "      <td>-124.27</td>\n",
       "      <td>40.69</td>\n",
       "      <td>36.0</td>\n",
       "      <td>528.0</td>\n",
       "      <td>2.5179</td>\n",
       "    </tr>\n",
       "    <tr>\n",
       "      <th>16997</th>\n",
       "      <td>-124.30</td>\n",
       "      <td>41.84</td>\n",
       "      <td>17.0</td>\n",
       "      <td>531.0</td>\n",
       "      <td>3.0313</td>\n",
       "    </tr>\n",
       "    <tr>\n",
       "      <th>16998</th>\n",
       "      <td>-124.30</td>\n",
       "      <td>41.80</td>\n",
       "      <td>19.0</td>\n",
       "      <td>552.0</td>\n",
       "      <td>1.9797</td>\n",
       "    </tr>\n",
       "    <tr>\n",
       "      <th>16999</th>\n",
       "      <td>-124.35</td>\n",
       "      <td>40.54</td>\n",
       "      <td>52.0</td>\n",
       "      <td>300.0</td>\n",
       "      <td>3.0147</td>\n",
       "    </tr>\n",
       "  </tbody>\n",
       "</table>\n",
       "<p>17000 rows × 5 columns</p>\n",
       "</div>"
      ]
     },
     "metadata": {},
     "execution_count": 138
    }
   ],
   "metadata": {}
  },
  {
   "cell_type": "code",
   "execution_count": 139,
   "source": [
    "features_RFE = features.loc[:, feature_selector.support_]"
   ],
   "outputs": [],
   "metadata": {}
  },
  {
   "cell_type": "code",
   "execution_count": 140,
   "source": [
    "features_RFE"
   ],
   "outputs": [
    {
     "output_type": "execute_result",
     "data": {
      "text/plain": [
       "       longitude  latitude  housing_median_age  total_bedrooms  median_income\n",
       "0        -114.31     34.19                15.0          1283.0         1.4936\n",
       "1        -114.47     34.40                19.0          1901.0         1.8200\n",
       "2        -114.56     33.69                17.0           174.0         1.6509\n",
       "3        -114.57     33.64                14.0           337.0         3.1917\n",
       "4        -114.57     33.57                20.0           326.0         1.9250\n",
       "...          ...       ...                 ...             ...            ...\n",
       "16995    -124.26     40.58                52.0           394.0         2.3571\n",
       "16996    -124.27     40.69                36.0           528.0         2.5179\n",
       "16997    -124.30     41.84                17.0           531.0         3.0313\n",
       "16998    -124.30     41.80                19.0           552.0         1.9797\n",
       "16999    -124.35     40.54                52.0           300.0         3.0147\n",
       "\n",
       "[17000 rows x 5 columns]"
      ],
      "text/html": [
       "<div>\n",
       "<style scoped>\n",
       "    .dataframe tbody tr th:only-of-type {\n",
       "        vertical-align: middle;\n",
       "    }\n",
       "\n",
       "    .dataframe tbody tr th {\n",
       "        vertical-align: top;\n",
       "    }\n",
       "\n",
       "    .dataframe thead th {\n",
       "        text-align: right;\n",
       "    }\n",
       "</style>\n",
       "<table border=\"1\" class=\"dataframe\">\n",
       "  <thead>\n",
       "    <tr style=\"text-align: right;\">\n",
       "      <th></th>\n",
       "      <th>longitude</th>\n",
       "      <th>latitude</th>\n",
       "      <th>housing_median_age</th>\n",
       "      <th>total_bedrooms</th>\n",
       "      <th>median_income</th>\n",
       "    </tr>\n",
       "  </thead>\n",
       "  <tbody>\n",
       "    <tr>\n",
       "      <th>0</th>\n",
       "      <td>-114.31</td>\n",
       "      <td>34.19</td>\n",
       "      <td>15.0</td>\n",
       "      <td>1283.0</td>\n",
       "      <td>1.4936</td>\n",
       "    </tr>\n",
       "    <tr>\n",
       "      <th>1</th>\n",
       "      <td>-114.47</td>\n",
       "      <td>34.40</td>\n",
       "      <td>19.0</td>\n",
       "      <td>1901.0</td>\n",
       "      <td>1.8200</td>\n",
       "    </tr>\n",
       "    <tr>\n",
       "      <th>2</th>\n",
       "      <td>-114.56</td>\n",
       "      <td>33.69</td>\n",
       "      <td>17.0</td>\n",
       "      <td>174.0</td>\n",
       "      <td>1.6509</td>\n",
       "    </tr>\n",
       "    <tr>\n",
       "      <th>3</th>\n",
       "      <td>-114.57</td>\n",
       "      <td>33.64</td>\n",
       "      <td>14.0</td>\n",
       "      <td>337.0</td>\n",
       "      <td>3.1917</td>\n",
       "    </tr>\n",
       "    <tr>\n",
       "      <th>4</th>\n",
       "      <td>-114.57</td>\n",
       "      <td>33.57</td>\n",
       "      <td>20.0</td>\n",
       "      <td>326.0</td>\n",
       "      <td>1.9250</td>\n",
       "    </tr>\n",
       "    <tr>\n",
       "      <th>...</th>\n",
       "      <td>...</td>\n",
       "      <td>...</td>\n",
       "      <td>...</td>\n",
       "      <td>...</td>\n",
       "      <td>...</td>\n",
       "    </tr>\n",
       "    <tr>\n",
       "      <th>16995</th>\n",
       "      <td>-124.26</td>\n",
       "      <td>40.58</td>\n",
       "      <td>52.0</td>\n",
       "      <td>394.0</td>\n",
       "      <td>2.3571</td>\n",
       "    </tr>\n",
       "    <tr>\n",
       "      <th>16996</th>\n",
       "      <td>-124.27</td>\n",
       "      <td>40.69</td>\n",
       "      <td>36.0</td>\n",
       "      <td>528.0</td>\n",
       "      <td>2.5179</td>\n",
       "    </tr>\n",
       "    <tr>\n",
       "      <th>16997</th>\n",
       "      <td>-124.30</td>\n",
       "      <td>41.84</td>\n",
       "      <td>17.0</td>\n",
       "      <td>531.0</td>\n",
       "      <td>3.0313</td>\n",
       "    </tr>\n",
       "    <tr>\n",
       "      <th>16998</th>\n",
       "      <td>-124.30</td>\n",
       "      <td>41.80</td>\n",
       "      <td>19.0</td>\n",
       "      <td>552.0</td>\n",
       "      <td>1.9797</td>\n",
       "    </tr>\n",
       "    <tr>\n",
       "      <th>16999</th>\n",
       "      <td>-124.35</td>\n",
       "      <td>40.54</td>\n",
       "      <td>52.0</td>\n",
       "      <td>300.0</td>\n",
       "      <td>3.0147</td>\n",
       "    </tr>\n",
       "  </tbody>\n",
       "</table>\n",
       "<p>17000 rows × 5 columns</p>\n",
       "</div>"
      ]
     },
     "metadata": {},
     "execution_count": 140
    }
   ],
   "metadata": {}
  },
  {
   "cell_type": "code",
   "execution_count": 141,
   "source": [
    "rfeModel = LinearRegression().fit(features_RFE, target)\r\n",
    "yhat = rfeModel.predict(features_RFE)\r\n",
    "rSquare(features_RFE, target, yhat)"
   ],
   "outputs": [
    {
     "output_type": "execute_result",
     "data": {
      "text/plain": [
       "{'r2': 0.6066073944924848, 'adjr2': 0.6064916499339619}"
      ]
     },
     "metadata": {},
     "execution_count": 141
    }
   ],
   "metadata": {}
  },
  {
   "cell_type": "code",
   "execution_count": 143,
   "source": [
    "from sklearn.preprocessing import StandardScaler\r\n",
    "col = features.columns\r\n",
    "scaler = StandardScaler()\r\n",
    "features_scaled = features.copy()\r\n",
    "features_scaled[col] = scaler.fit_transform(features[col])"
   ],
   "outputs": [],
   "metadata": {}
  },
  {
   "cell_type": "code",
   "execution_count": 144,
   "source": [
    "features_scaled"
   ],
   "outputs": [
    {
     "output_type": "execute_result",
     "data": {
      "text/plain": [
       "       longitude  latitude  housing_median_age  total_rooms  total_bedrooms  \\\n",
       "0       2.619365 -0.671520           -1.079671     1.361695        1.764204   \n",
       "1       2.539569 -0.573264           -0.761872     2.296608        3.230441   \n",
       "2       2.494683 -0.905463           -0.920772    -0.882462       -0.866956   \n",
       "3       2.489696 -0.928857           -1.159121    -0.524186       -0.480230   \n",
       "4       2.489696 -0.961609           -0.682422    -0.545747       -0.506328   \n",
       "...          ...       ...                 ...          ...             ...   \n",
       "16995  -2.342963  2.318265            1.859971    -0.195728       -0.344995   \n",
       "16996  -2.347950  2.369733            0.588774    -0.135174       -0.027073   \n",
       "16997  -2.362912  2.907801           -0.920772     0.015292       -0.019955   \n",
       "16998  -2.362912  2.889085           -0.761872     0.012999        0.029868   \n",
       "16999  -2.387848  2.299550            1.859971    -0.377848       -0.568015   \n",
       "\n",
       "       population  households  median_income  \n",
       "0       -0.361184   -0.075998      -1.252543  \n",
       "1       -0.261865   -0.099404      -1.081483  \n",
       "2       -0.955354   -0.999252      -1.170105  \n",
       "3       -0.796793   -0.715774      -0.362600  \n",
       "4       -0.701830   -0.622148      -1.026454  \n",
       "...           ...         ...            ...  \n",
       "16995   -0.455275   -0.343872      -0.799999  \n",
       "16996   -0.205236   -0.094203      -0.715727  \n",
       "16997   -0.161675   -0.117609      -0.446663  \n",
       "16998   -0.114630   -0.060394      -0.997787  \n",
       "16999   -0.543268   -0.601343      -0.455363  \n",
       "\n",
       "[17000 rows x 8 columns]"
      ],
      "text/html": [
       "<div>\n",
       "<style scoped>\n",
       "    .dataframe tbody tr th:only-of-type {\n",
       "        vertical-align: middle;\n",
       "    }\n",
       "\n",
       "    .dataframe tbody tr th {\n",
       "        vertical-align: top;\n",
       "    }\n",
       "\n",
       "    .dataframe thead th {\n",
       "        text-align: right;\n",
       "    }\n",
       "</style>\n",
       "<table border=\"1\" class=\"dataframe\">\n",
       "  <thead>\n",
       "    <tr style=\"text-align: right;\">\n",
       "      <th></th>\n",
       "      <th>longitude</th>\n",
       "      <th>latitude</th>\n",
       "      <th>housing_median_age</th>\n",
       "      <th>total_rooms</th>\n",
       "      <th>total_bedrooms</th>\n",
       "      <th>population</th>\n",
       "      <th>households</th>\n",
       "      <th>median_income</th>\n",
       "    </tr>\n",
       "  </thead>\n",
       "  <tbody>\n",
       "    <tr>\n",
       "      <th>0</th>\n",
       "      <td>2.619365</td>\n",
       "      <td>-0.671520</td>\n",
       "      <td>-1.079671</td>\n",
       "      <td>1.361695</td>\n",
       "      <td>1.764204</td>\n",
       "      <td>-0.361184</td>\n",
       "      <td>-0.075998</td>\n",
       "      <td>-1.252543</td>\n",
       "    </tr>\n",
       "    <tr>\n",
       "      <th>1</th>\n",
       "      <td>2.539569</td>\n",
       "      <td>-0.573264</td>\n",
       "      <td>-0.761872</td>\n",
       "      <td>2.296608</td>\n",
       "      <td>3.230441</td>\n",
       "      <td>-0.261865</td>\n",
       "      <td>-0.099404</td>\n",
       "      <td>-1.081483</td>\n",
       "    </tr>\n",
       "    <tr>\n",
       "      <th>2</th>\n",
       "      <td>2.494683</td>\n",
       "      <td>-0.905463</td>\n",
       "      <td>-0.920772</td>\n",
       "      <td>-0.882462</td>\n",
       "      <td>-0.866956</td>\n",
       "      <td>-0.955354</td>\n",
       "      <td>-0.999252</td>\n",
       "      <td>-1.170105</td>\n",
       "    </tr>\n",
       "    <tr>\n",
       "      <th>3</th>\n",
       "      <td>2.489696</td>\n",
       "      <td>-0.928857</td>\n",
       "      <td>-1.159121</td>\n",
       "      <td>-0.524186</td>\n",
       "      <td>-0.480230</td>\n",
       "      <td>-0.796793</td>\n",
       "      <td>-0.715774</td>\n",
       "      <td>-0.362600</td>\n",
       "    </tr>\n",
       "    <tr>\n",
       "      <th>4</th>\n",
       "      <td>2.489696</td>\n",
       "      <td>-0.961609</td>\n",
       "      <td>-0.682422</td>\n",
       "      <td>-0.545747</td>\n",
       "      <td>-0.506328</td>\n",
       "      <td>-0.701830</td>\n",
       "      <td>-0.622148</td>\n",
       "      <td>-1.026454</td>\n",
       "    </tr>\n",
       "    <tr>\n",
       "      <th>...</th>\n",
       "      <td>...</td>\n",
       "      <td>...</td>\n",
       "      <td>...</td>\n",
       "      <td>...</td>\n",
       "      <td>...</td>\n",
       "      <td>...</td>\n",
       "      <td>...</td>\n",
       "      <td>...</td>\n",
       "    </tr>\n",
       "    <tr>\n",
       "      <th>16995</th>\n",
       "      <td>-2.342963</td>\n",
       "      <td>2.318265</td>\n",
       "      <td>1.859971</td>\n",
       "      <td>-0.195728</td>\n",
       "      <td>-0.344995</td>\n",
       "      <td>-0.455275</td>\n",
       "      <td>-0.343872</td>\n",
       "      <td>-0.799999</td>\n",
       "    </tr>\n",
       "    <tr>\n",
       "      <th>16996</th>\n",
       "      <td>-2.347950</td>\n",
       "      <td>2.369733</td>\n",
       "      <td>0.588774</td>\n",
       "      <td>-0.135174</td>\n",
       "      <td>-0.027073</td>\n",
       "      <td>-0.205236</td>\n",
       "      <td>-0.094203</td>\n",
       "      <td>-0.715727</td>\n",
       "    </tr>\n",
       "    <tr>\n",
       "      <th>16997</th>\n",
       "      <td>-2.362912</td>\n",
       "      <td>2.907801</td>\n",
       "      <td>-0.920772</td>\n",
       "      <td>0.015292</td>\n",
       "      <td>-0.019955</td>\n",
       "      <td>-0.161675</td>\n",
       "      <td>-0.117609</td>\n",
       "      <td>-0.446663</td>\n",
       "    </tr>\n",
       "    <tr>\n",
       "      <th>16998</th>\n",
       "      <td>-2.362912</td>\n",
       "      <td>2.889085</td>\n",
       "      <td>-0.761872</td>\n",
       "      <td>0.012999</td>\n",
       "      <td>0.029868</td>\n",
       "      <td>-0.114630</td>\n",
       "      <td>-0.060394</td>\n",
       "      <td>-0.997787</td>\n",
       "    </tr>\n",
       "    <tr>\n",
       "      <th>16999</th>\n",
       "      <td>-2.387848</td>\n",
       "      <td>2.299550</td>\n",
       "      <td>1.859971</td>\n",
       "      <td>-0.377848</td>\n",
       "      <td>-0.568015</td>\n",
       "      <td>-0.543268</td>\n",
       "      <td>-0.601343</td>\n",
       "      <td>-0.455363</td>\n",
       "    </tr>\n",
       "  </tbody>\n",
       "</table>\n",
       "<p>17000 rows × 8 columns</p>\n",
       "</div>"
      ]
     },
     "metadata": {},
     "execution_count": 144
    }
   ],
   "metadata": {}
  },
  {
   "cell_type": "code",
   "execution_count": 146,
   "source": [
    "from sklearn.preprocessing import StandardScaler\r\n",
    "scaler = StandardScaler()\r\n",
    "features_scaled = features.copy()\r\n",
    "features_scaled = scaler.fit_transform(features_scaled)"
   ],
   "outputs": [],
   "metadata": {}
  },
  {
   "cell_type": "code",
   "execution_count": 147,
   "source": [
    "features_scaled"
   ],
   "outputs": [
    {
     "output_type": "execute_result",
     "data": {
      "text/plain": [
       "array([[ 2.619365  , -0.67152023, -1.07967114, ..., -0.36118401,\n",
       "        -0.07599796, -1.25254316],\n",
       "       [ 2.53956878, -0.57326437, -0.76187201, ..., -0.26186523,\n",
       "        -0.09940441, -1.08148298],\n",
       "       [ 2.4946834 , -0.90546278, -0.92077158, ..., -0.95535424,\n",
       "        -0.99925206, -1.17010515],\n",
       "       ...,\n",
       "       [-2.36291168,  2.90780067, -0.92077158, ..., -0.16167524,\n",
       "        -0.11760942, -0.44666313],\n",
       "       [-2.36291168,  2.88908527, -0.76187201, ..., -0.1146295 ,\n",
       "        -0.06039367, -0.99778717],\n",
       "       [-2.387848  ,  2.29955006,  1.85997083, ..., -0.54326844,\n",
       "        -0.60134255, -0.45536288]])"
      ]
     },
     "metadata": {},
     "execution_count": 147
    }
   ],
   "metadata": {}
  },
  {
   "cell_type": "code",
   "execution_count": 148,
   "source": [
    "features_scaled = pd.DataFrame(data = features_scaled, columns=features.columns)"
   ],
   "outputs": [],
   "metadata": {}
  },
  {
   "cell_type": "code",
   "execution_count": 149,
   "source": [
    "features_scaled"
   ],
   "outputs": [
    {
     "output_type": "execute_result",
     "data": {
      "text/plain": [
       "       longitude  latitude  housing_median_age  total_rooms  total_bedrooms  \\\n",
       "0       2.619365 -0.671520           -1.079671     1.361695        1.764204   \n",
       "1       2.539569 -0.573264           -0.761872     2.296608        3.230441   \n",
       "2       2.494683 -0.905463           -0.920772    -0.882462       -0.866956   \n",
       "3       2.489696 -0.928857           -1.159121    -0.524186       -0.480230   \n",
       "4       2.489696 -0.961609           -0.682422    -0.545747       -0.506328   \n",
       "...          ...       ...                 ...          ...             ...   \n",
       "16995  -2.342963  2.318265            1.859971    -0.195728       -0.344995   \n",
       "16996  -2.347950  2.369733            0.588774    -0.135174       -0.027073   \n",
       "16997  -2.362912  2.907801           -0.920772     0.015292       -0.019955   \n",
       "16998  -2.362912  2.889085           -0.761872     0.012999        0.029868   \n",
       "16999  -2.387848  2.299550            1.859971    -0.377848       -0.568015   \n",
       "\n",
       "       population  households  median_income  \n",
       "0       -0.361184   -0.075998      -1.252543  \n",
       "1       -0.261865   -0.099404      -1.081483  \n",
       "2       -0.955354   -0.999252      -1.170105  \n",
       "3       -0.796793   -0.715774      -0.362600  \n",
       "4       -0.701830   -0.622148      -1.026454  \n",
       "...           ...         ...            ...  \n",
       "16995   -0.455275   -0.343872      -0.799999  \n",
       "16996   -0.205236   -0.094203      -0.715727  \n",
       "16997   -0.161675   -0.117609      -0.446663  \n",
       "16998   -0.114630   -0.060394      -0.997787  \n",
       "16999   -0.543268   -0.601343      -0.455363  \n",
       "\n",
       "[17000 rows x 8 columns]"
      ],
      "text/html": [
       "<div>\n",
       "<style scoped>\n",
       "    .dataframe tbody tr th:only-of-type {\n",
       "        vertical-align: middle;\n",
       "    }\n",
       "\n",
       "    .dataframe tbody tr th {\n",
       "        vertical-align: top;\n",
       "    }\n",
       "\n",
       "    .dataframe thead th {\n",
       "        text-align: right;\n",
       "    }\n",
       "</style>\n",
       "<table border=\"1\" class=\"dataframe\">\n",
       "  <thead>\n",
       "    <tr style=\"text-align: right;\">\n",
       "      <th></th>\n",
       "      <th>longitude</th>\n",
       "      <th>latitude</th>\n",
       "      <th>housing_median_age</th>\n",
       "      <th>total_rooms</th>\n",
       "      <th>total_bedrooms</th>\n",
       "      <th>population</th>\n",
       "      <th>households</th>\n",
       "      <th>median_income</th>\n",
       "    </tr>\n",
       "  </thead>\n",
       "  <tbody>\n",
       "    <tr>\n",
       "      <th>0</th>\n",
       "      <td>2.619365</td>\n",
       "      <td>-0.671520</td>\n",
       "      <td>-1.079671</td>\n",
       "      <td>1.361695</td>\n",
       "      <td>1.764204</td>\n",
       "      <td>-0.361184</td>\n",
       "      <td>-0.075998</td>\n",
       "      <td>-1.252543</td>\n",
       "    </tr>\n",
       "    <tr>\n",
       "      <th>1</th>\n",
       "      <td>2.539569</td>\n",
       "      <td>-0.573264</td>\n",
       "      <td>-0.761872</td>\n",
       "      <td>2.296608</td>\n",
       "      <td>3.230441</td>\n",
       "      <td>-0.261865</td>\n",
       "      <td>-0.099404</td>\n",
       "      <td>-1.081483</td>\n",
       "    </tr>\n",
       "    <tr>\n",
       "      <th>2</th>\n",
       "      <td>2.494683</td>\n",
       "      <td>-0.905463</td>\n",
       "      <td>-0.920772</td>\n",
       "      <td>-0.882462</td>\n",
       "      <td>-0.866956</td>\n",
       "      <td>-0.955354</td>\n",
       "      <td>-0.999252</td>\n",
       "      <td>-1.170105</td>\n",
       "    </tr>\n",
       "    <tr>\n",
       "      <th>3</th>\n",
       "      <td>2.489696</td>\n",
       "      <td>-0.928857</td>\n",
       "      <td>-1.159121</td>\n",
       "      <td>-0.524186</td>\n",
       "      <td>-0.480230</td>\n",
       "      <td>-0.796793</td>\n",
       "      <td>-0.715774</td>\n",
       "      <td>-0.362600</td>\n",
       "    </tr>\n",
       "    <tr>\n",
       "      <th>4</th>\n",
       "      <td>2.489696</td>\n",
       "      <td>-0.961609</td>\n",
       "      <td>-0.682422</td>\n",
       "      <td>-0.545747</td>\n",
       "      <td>-0.506328</td>\n",
       "      <td>-0.701830</td>\n",
       "      <td>-0.622148</td>\n",
       "      <td>-1.026454</td>\n",
       "    </tr>\n",
       "    <tr>\n",
       "      <th>...</th>\n",
       "      <td>...</td>\n",
       "      <td>...</td>\n",
       "      <td>...</td>\n",
       "      <td>...</td>\n",
       "      <td>...</td>\n",
       "      <td>...</td>\n",
       "      <td>...</td>\n",
       "      <td>...</td>\n",
       "    </tr>\n",
       "    <tr>\n",
       "      <th>16995</th>\n",
       "      <td>-2.342963</td>\n",
       "      <td>2.318265</td>\n",
       "      <td>1.859971</td>\n",
       "      <td>-0.195728</td>\n",
       "      <td>-0.344995</td>\n",
       "      <td>-0.455275</td>\n",
       "      <td>-0.343872</td>\n",
       "      <td>-0.799999</td>\n",
       "    </tr>\n",
       "    <tr>\n",
       "      <th>16996</th>\n",
       "      <td>-2.347950</td>\n",
       "      <td>2.369733</td>\n",
       "      <td>0.588774</td>\n",
       "      <td>-0.135174</td>\n",
       "      <td>-0.027073</td>\n",
       "      <td>-0.205236</td>\n",
       "      <td>-0.094203</td>\n",
       "      <td>-0.715727</td>\n",
       "    </tr>\n",
       "    <tr>\n",
       "      <th>16997</th>\n",
       "      <td>-2.362912</td>\n",
       "      <td>2.907801</td>\n",
       "      <td>-0.920772</td>\n",
       "      <td>0.015292</td>\n",
       "      <td>-0.019955</td>\n",
       "      <td>-0.161675</td>\n",
       "      <td>-0.117609</td>\n",
       "      <td>-0.446663</td>\n",
       "    </tr>\n",
       "    <tr>\n",
       "      <th>16998</th>\n",
       "      <td>-2.362912</td>\n",
       "      <td>2.889085</td>\n",
       "      <td>-0.761872</td>\n",
       "      <td>0.012999</td>\n",
       "      <td>0.029868</td>\n",
       "      <td>-0.114630</td>\n",
       "      <td>-0.060394</td>\n",
       "      <td>-0.997787</td>\n",
       "    </tr>\n",
       "    <tr>\n",
       "      <th>16999</th>\n",
       "      <td>-2.387848</td>\n",
       "      <td>2.299550</td>\n",
       "      <td>1.859971</td>\n",
       "      <td>-0.377848</td>\n",
       "      <td>-0.568015</td>\n",
       "      <td>-0.543268</td>\n",
       "      <td>-0.601343</td>\n",
       "      <td>-0.455363</td>\n",
       "    </tr>\n",
       "  </tbody>\n",
       "</table>\n",
       "<p>17000 rows × 8 columns</p>\n",
       "</div>"
      ]
     },
     "metadata": {},
     "execution_count": 149
    }
   ],
   "metadata": {}
  },
  {
   "cell_type": "code",
   "execution_count": 150,
   "source": [
    "dt.visualCorr(features_scaled)"
   ],
   "outputs": [
    {
     "output_type": "display_data",
     "data": {
      "text/plain": [
       "<Figure size 1080x504 with 2 Axes>"
      ],
      "image/png": "[encoded data removed]"
     },
     "metadata": {
      "needs_background": "light"
     }
    }
   ],
   "metadata": {}
  },
  {
   "cell_type": "code",
   "execution_count": 154,
   "source": [
    "dt.vif(features_scaled.drop(columns=['households', 'total_bedrooms']))"
   ],
   "outputs": [
    {
     "output_type": "execute_result",
     "data": {
      "text/plain": [
       "   vif factor            features\n",
       "0    8.304574           longitude\n",
       "1    8.427962            latitude\n",
       "2    1.260121  housing_median_age\n",
       "3    4.866106         total_rooms\n",
       "4    4.621648          population\n",
       "5    1.323630       median_income"
      ],
      "text/html": [
       "<div>\n",
       "<style scoped>\n",
       "    .dataframe tbody tr th:only-of-type {\n",
       "        vertical-align: middle;\n",
       "    }\n",
       "\n",
       "    .dataframe tbody tr th {\n",
       "        vertical-align: top;\n",
       "    }\n",
       "\n",
       "    .dataframe thead th {\n",
       "        text-align: right;\n",
       "    }\n",
       "</style>\n",
       "<table border=\"1\" class=\"dataframe\">\n",
       "  <thead>\n",
       "    <tr style=\"text-align: right;\">\n",
       "      <th></th>\n",
       "      <th>vif factor</th>\n",
       "      <th>features</th>\n",
       "    </tr>\n",
       "  </thead>\n",
       "  <tbody>\n",
       "    <tr>\n",
       "      <th>0</th>\n",
       "      <td>8.304574</td>\n",
       "      <td>longitude</td>\n",
       "    </tr>\n",
       "    <tr>\n",
       "      <th>1</th>\n",
       "      <td>8.427962</td>\n",
       "      <td>latitude</td>\n",
       "    </tr>\n",
       "    <tr>\n",
       "      <th>2</th>\n",
       "      <td>1.260121</td>\n",
       "      <td>housing_median_age</td>\n",
       "    </tr>\n",
       "    <tr>\n",
       "      <th>3</th>\n",
       "      <td>4.866106</td>\n",
       "      <td>total_rooms</td>\n",
       "    </tr>\n",
       "    <tr>\n",
       "      <th>4</th>\n",
       "      <td>4.621648</td>\n",
       "      <td>population</td>\n",
       "    </tr>\n",
       "    <tr>\n",
       "      <th>5</th>\n",
       "      <td>1.323630</td>\n",
       "      <td>median_income</td>\n",
       "    </tr>\n",
       "  </tbody>\n",
       "</table>\n",
       "</div>"
      ]
     },
     "metadata": {},
     "execution_count": 154
    }
   ],
   "metadata": {}
  },
  {
   "cell_type": "code",
   "execution_count": 155,
   "source": [
    "result = forward_selection(features_scaled, target)\r\n",
    "result"
   ],
   "outputs": [
    {
     "output_type": "execute_result",
     "data": {
      "text/plain": [
       "model                                     LinearRegression()\n",
       "score                                               0.641169\n",
       "columns    [median_income, housing_median_age, total_bedr...\n",
       "Name: 0, dtype: object"
      ]
     },
     "metadata": {},
     "execution_count": 155
    }
   ],
   "metadata": {}
  },
  {
   "cell_type": "code",
   "execution_count": 156,
   "source": [
    "result = stepwise_selection(features_scaled, target)\r\n",
    "result"
   ],
   "outputs": [
    {
     "output_type": "execute_result",
     "data": {
      "text/plain": [
       "model                                     LinearRegression()\n",
       "score                                               0.641169\n",
       "columns    [median_income, housing_median_age, total_bedr...\n",
       "Name: 0, dtype: object"
      ]
     },
     "metadata": {},
     "execution_count": 156
    }
   ],
   "metadata": {}
  },
  {
   "cell_type": "code",
   "execution_count": 157,
   "source": [
    "result = backward_elimination(features_scaled, target)\r\n",
    "result"
   ],
   "outputs": [
    {
     "output_type": "execute_result",
     "data": {
      "text/plain": [
       "model                                     LinearRegression()\n",
       "score                                               0.640579\n",
       "columns    [longitude, latitude, housing_median_age, tota...\n",
       "Name: 1, dtype: object"
      ]
     },
     "metadata": {},
     "execution_count": 157
    }
   ],
   "metadata": {}
  },
  {
   "cell_type": "code",
   "execution_count": 159,
   "source": [
    "model = LinearRegression().fit(features_scaled, target)\r\n",
    "perm = PermutationImportance(model, random_state=123).fit(features_scaled, target)\r\n",
    "eli5.show_weights(perm, feature_names = features_scaled.columns.tolist())"
   ],
   "outputs": [
    {
     "output_type": "execute_result",
     "data": {
      "text/plain": [
       "<IPython.core.display.HTML object>"
      ],
      "text/html": [
       "\n",
       "    <style>\n",
       "    table.eli5-weights tr:hover {\n",
       "        filter: brightness(85%);\n",
       "    }\n",
       "</style>\n",
       "\n",
       "\n",
       "\n",
       "    \n",
       "\n",
       "    \n",
       "\n",
       "    \n",
       "\n",
       "    \n",
       "\n",
       "    \n",
       "\n",
       "    \n",
       "\n",
       "\n",
       "    \n",
       "\n",
       "    \n",
       "\n",
       "    \n",
       "\n",
       "    \n",
       "\n",
       "    \n",
       "\n",
       "    \n",
       "\n",
       "\n",
       "    \n",
       "\n",
       "    \n",
       "\n",
       "    \n",
       "\n",
       "    \n",
       "\n",
       "    \n",
       "        <table class=\"eli5-weights eli5-feature-importances\" style=\"border-collapse: collapse; border: none; margin-top: 0em; table-layout: auto;\">\n",
       "    <thead>\n",
       "    <tr style=\"border: none;\">\n",
       "        <th style=\"padding: 0 1em 0 0.5em; text-align: right; border: none;\">Weight</th>\n",
       "        <th style=\"padding: 0 0.5em 0 0.5em; text-align: left; border: none;\">Feature</th>\n",
       "    </tr>\n",
       "    </thead>\n",
       "    <tbody>\n",
       "    \n",
       "        <tr style=\"background-color: hsl(120, 100.00%, 80.00%); border: none;\">\n",
       "            <td style=\"padding: 0 1em 0 0.5em; text-align: right; border: none;\">\n",
       "                1.2499\n",
       "                \n",
       "                    &plusmn; 0.0340\n",
       "                \n",
       "            </td>\n",
       "            <td style=\"padding: 0 0.5em 0 0.5em; text-align: left; border: none;\">\n",
       "                latitude\n",
       "            </td>\n",
       "        </tr>\n",
       "    \n",
       "        <tr style=\"background-color: hsl(120, 100.00%, 81.52%); border: none;\">\n",
       "            <td style=\"padding: 0 1em 0 0.5em; text-align: right; border: none;\">\n",
       "                1.1162\n",
       "                \n",
       "                    &plusmn; 0.0222\n",
       "                \n",
       "            </td>\n",
       "            <td style=\"padding: 0 0.5em 0 0.5em; text-align: left; border: none;\">\n",
       "                longitude\n",
       "            </td>\n",
       "        </tr>\n",
       "    \n",
       "        <tr style=\"background-color: hsl(120, 100.00%, 84.29%); border: none;\">\n",
       "            <td style=\"padding: 0 1em 0 0.5em; text-align: right; border: none;\">\n",
       "                0.8855\n",
       "                \n",
       "                    &plusmn; 0.0256\n",
       "                \n",
       "            </td>\n",
       "            <td style=\"padding: 0 0.5em 0 0.5em; text-align: left; border: none;\">\n",
       "                median_income\n",
       "            </td>\n",
       "        </tr>\n",
       "    \n",
       "        <tr style=\"background-color: hsl(120, 100.00%, 91.54%); border: none;\">\n",
       "            <td style=\"padding: 0 1em 0 0.5em; text-align: right; border: none;\">\n",
       "                0.3658\n",
       "                \n",
       "                    &plusmn; 0.0042\n",
       "                \n",
       "            </td>\n",
       "            <td style=\"padding: 0 0.5em 0 0.5em; text-align: left; border: none;\">\n",
       "                total_bedrooms\n",
       "            </td>\n",
       "        </tr>\n",
       "    \n",
       "        <tr style=\"background-color: hsl(120, 100.00%, 92.77%); border: none;\">\n",
       "            <td style=\"padding: 0 1em 0 0.5em; text-align: right; border: none;\">\n",
       "                0.2921\n",
       "                \n",
       "                    &plusmn; 0.0032\n",
       "                \n",
       "            </td>\n",
       "            <td style=\"padding: 0 0.5em 0 0.5em; text-align: left; border: none;\">\n",
       "                population\n",
       "            </td>\n",
       "        </tr>\n",
       "    \n",
       "        <tr style=\"background-color: hsl(120, 100.00%, 97.95%); border: none;\">\n",
       "            <td style=\"padding: 0 1em 0 0.5em; text-align: right; border: none;\">\n",
       "                0.0483\n",
       "                \n",
       "                    &plusmn; 0.0031\n",
       "                \n",
       "            </td>\n",
       "            <td style=\"padding: 0 0.5em 0 0.5em; text-align: left; border: none;\">\n",
       "                total_rooms\n",
       "            </td>\n",
       "        </tr>\n",
       "    \n",
       "        <tr style=\"background-color: hsl(120, 100.00%, 98.04%); border: none;\">\n",
       "            <td style=\"padding: 0 1em 0 0.5em; text-align: right; border: none;\">\n",
       "                0.0453\n",
       "                \n",
       "                    &plusmn; 0.0021\n",
       "                \n",
       "            </td>\n",
       "            <td style=\"padding: 0 0.5em 0 0.5em; text-align: left; border: none;\">\n",
       "                households\n",
       "            </td>\n",
       "        </tr>\n",
       "    \n",
       "        <tr style=\"background-color: hsl(120, 100.00%, 98.50%); border: none;\">\n",
       "            <td style=\"padding: 0 1em 0 0.5em; text-align: right; border: none;\">\n",
       "                0.0310\n",
       "                \n",
       "                    &plusmn; 0.0017\n",
       "                \n",
       "            </td>\n",
       "            <td style=\"padding: 0 0.5em 0 0.5em; text-align: left; border: none;\">\n",
       "                housing_median_age\n",
       "            </td>\n",
       "        </tr>\n",
       "    \n",
       "    \n",
       "    </tbody>\n",
       "</table>\n",
       "    \n",
       "\n",
       "    \n",
       "\n",
       "\n",
       "    \n",
       "\n",
       "    \n",
       "\n",
       "    \n",
       "\n",
       "    \n",
       "\n",
       "    \n",
       "\n",
       "    \n",
       "\n",
       "\n",
       "\n"
      ]
     },
     "metadata": {},
     "execution_count": 159
    }
   ],
   "metadata": {}
  },
  {
   "cell_type": "code",
   "execution_count": 160,
   "source": [
    "model = LinearRegression().fit(features_scaled, target)\r\n",
    "explainer = shap.LinearExplainer(model, features_scaled)\r\n",
    "shap_value = explainer.shap_values(features_scaled)\r\n",
    "shap.summary_plot(shap_value, features_scaled)"
   ],
   "outputs": [
    {
     "output_type": "display_data",
     "data": {
      "text/plain": [
       "<Figure size 576x338.4 with 2 Axes>"
      ],
      "image/png": "[encoded data removed]"
     },
     "metadata": {
      "needs_background": "light"
     }
    }
   ],
   "metadata": {}
  },
  {
   "cell_type": "code",
   "execution_count": 161,
   "source": [
    "from sklearn.feature_selection import RFE\r\n",
    "model = LinearRegression().fit(features_scaled, target)\r\n",
    "features_selector = RFE(model, n_features_to_select=5)\r\n",
    "features_selector = features_selector.fit(features_scaled, target)"
   ],
   "outputs": [],
   "metadata": {}
  },
  {
   "cell_type": "code",
   "execution_count": 162,
   "source": [
    "features_selector.n_features_"
   ],
   "outputs": [
    {
     "output_type": "execute_result",
     "data": {
      "text/plain": [
       "5"
      ]
     },
     "metadata": {},
     "execution_count": 162
    }
   ],
   "metadata": {}
  },
  {
   "cell_type": "code",
   "execution_count": 163,
   "source": [
    "features_selector.support_"
   ],
   "outputs": [
    {
     "output_type": "execute_result",
     "data": {
      "text/plain": [
       "array([ True,  True, False, False,  True,  True, False,  True])"
      ]
     },
     "metadata": {},
     "execution_count": 163
    }
   ],
   "metadata": {}
  },
  {
   "cell_type": "code",
   "execution_count": 164,
   "source": [
    "features_scaled.loc[:, features_selector.support_]"
   ],
   "outputs": [
    {
     "output_type": "execute_result",
     "data": {
      "text/plain": [
       "       longitude  latitude  total_bedrooms  population  median_income\n",
       "0       2.619365 -0.671520        1.764204   -0.361184      -1.252543\n",
       "1       2.539569 -0.573264        3.230441   -0.261865      -1.081483\n",
       "2       2.494683 -0.905463       -0.866956   -0.955354      -1.170105\n",
       "3       2.489696 -0.928857       -0.480230   -0.796793      -0.362600\n",
       "4       2.489696 -0.961609       -0.506328   -0.701830      -1.026454\n",
       "...          ...       ...             ...         ...            ...\n",
       "16995  -2.342963  2.318265       -0.344995   -0.455275      -0.799999\n",
       "16996  -2.347950  2.369733       -0.027073   -0.205236      -0.715727\n",
       "16997  -2.362912  2.907801       -0.019955   -0.161675      -0.446663\n",
       "16998  -2.362912  2.889085        0.029868   -0.114630      -0.997787\n",
       "16999  -2.387848  2.299550       -0.568015   -0.543268      -0.455363\n",
       "\n",
       "[17000 rows x 5 columns]"
      ],
      "text/html": [
       "<div>\n",
       "<style scoped>\n",
       "    .dataframe tbody tr th:only-of-type {\n",
       "        vertical-align: middle;\n",
       "    }\n",
       "\n",
       "    .dataframe tbody tr th {\n",
       "        vertical-align: top;\n",
       "    }\n",
       "\n",
       "    .dataframe thead th {\n",
       "        text-align: right;\n",
       "    }\n",
       "</style>\n",
       "<table border=\"1\" class=\"dataframe\">\n",
       "  <thead>\n",
       "    <tr style=\"text-align: right;\">\n",
       "      <th></th>\n",
       "      <th>longitude</th>\n",
       "      <th>latitude</th>\n",
       "      <th>total_bedrooms</th>\n",
       "      <th>population</th>\n",
       "      <th>median_income</th>\n",
       "    </tr>\n",
       "  </thead>\n",
       "  <tbody>\n",
       "    <tr>\n",
       "      <th>0</th>\n",
       "      <td>2.619365</td>\n",
       "      <td>-0.671520</td>\n",
       "      <td>1.764204</td>\n",
       "      <td>-0.361184</td>\n",
       "      <td>-1.252543</td>\n",
       "    </tr>\n",
       "    <tr>\n",
       "      <th>1</th>\n",
       "      <td>2.539569</td>\n",
       "      <td>-0.573264</td>\n",
       "      <td>3.230441</td>\n",
       "      <td>-0.261865</td>\n",
       "      <td>-1.081483</td>\n",
       "    </tr>\n",
       "    <tr>\n",
       "      <th>2</th>\n",
       "      <td>2.494683</td>\n",
       "      <td>-0.905463</td>\n",
       "      <td>-0.866956</td>\n",
       "      <td>-0.955354</td>\n",
       "      <td>-1.170105</td>\n",
       "    </tr>\n",
       "    <tr>\n",
       "      <th>3</th>\n",
       "      <td>2.489696</td>\n",
       "      <td>-0.928857</td>\n",
       "      <td>-0.480230</td>\n",
       "      <td>-0.796793</td>\n",
       "      <td>-0.362600</td>\n",
       "    </tr>\n",
       "    <tr>\n",
       "      <th>4</th>\n",
       "      <td>2.489696</td>\n",
       "      <td>-0.961609</td>\n",
       "      <td>-0.506328</td>\n",
       "      <td>-0.701830</td>\n",
       "      <td>-1.026454</td>\n",
       "    </tr>\n",
       "    <tr>\n",
       "      <th>...</th>\n",
       "      <td>...</td>\n",
       "      <td>...</td>\n",
       "      <td>...</td>\n",
       "      <td>...</td>\n",
       "      <td>...</td>\n",
       "    </tr>\n",
       "    <tr>\n",
       "      <th>16995</th>\n",
       "      <td>-2.342963</td>\n",
       "      <td>2.318265</td>\n",
       "      <td>-0.344995</td>\n",
       "      <td>-0.455275</td>\n",
       "      <td>-0.799999</td>\n",
       "    </tr>\n",
       "    <tr>\n",
       "      <th>16996</th>\n",
       "      <td>-2.347950</td>\n",
       "      <td>2.369733</td>\n",
       "      <td>-0.027073</td>\n",
       "      <td>-0.205236</td>\n",
       "      <td>-0.715727</td>\n",
       "    </tr>\n",
       "    <tr>\n",
       "      <th>16997</th>\n",
       "      <td>-2.362912</td>\n",
       "      <td>2.907801</td>\n",
       "      <td>-0.019955</td>\n",
       "      <td>-0.161675</td>\n",
       "      <td>-0.446663</td>\n",
       "    </tr>\n",
       "    <tr>\n",
       "      <th>16998</th>\n",
       "      <td>-2.362912</td>\n",
       "      <td>2.889085</td>\n",
       "      <td>0.029868</td>\n",
       "      <td>-0.114630</td>\n",
       "      <td>-0.997787</td>\n",
       "    </tr>\n",
       "    <tr>\n",
       "      <th>16999</th>\n",
       "      <td>-2.387848</td>\n",
       "      <td>2.299550</td>\n",
       "      <td>-0.568015</td>\n",
       "      <td>-0.543268</td>\n",
       "      <td>-0.455363</td>\n",
       "    </tr>\n",
       "  </tbody>\n",
       "</table>\n",
       "<p>17000 rows × 5 columns</p>\n",
       "</div>"
      ]
     },
     "metadata": {},
     "execution_count": 164
    }
   ],
   "metadata": {}
  },
  {
   "cell_type": "code",
   "execution_count": 165,
   "source": [
    "np.random.seed(1234)\r\n",
    "x = np.linspace(0, 1, 1000)\r\n",
    "y = np.sin(2 * np.pi * x) + (np.random.randn(1000)/5)\r\n",
    "x_train = np.linspace(0, 1, 11)\r\n",
    "y_train = np.sin(2 * np.pi * x_train) + (np.random.randn(11)/5)\r\n",
    "x_test = np.linspace(0, 1, 50)\r\n",
    "y_test = np.sin(2 * np.pi * x_test) + (np.random.randn(50)/5)"
   ],
   "outputs": [],
   "metadata": {}
  },
  {
   "cell_type": "code",
   "execution_count": 166,
   "source": [
    "x_poly = np.c_[ \r\n",
    "\r\n",
    " x, x ** 2, x ** 3, x ** 4, x ** 5, x ** 6, x ** 7, \r\n",
    "\r\n",
    " x ** 8, x ** 9, x**10\r\n",
    "\r\n",
    "]\r\n",
    "\r\n",
    "x_train_poly = np.c_[ \r\n",
    "\r\n",
    "  x_train, x_train ** 2, x_train ** 3, x_train ** 4, x_train ** 5, \r\n",
    "\r\n",
    "  x_train ** 6, x_train ** 7, x_train ** 8, x_train ** 9, x_train**10\r\n",
    "\r\n",
    "]\r\n",
    "\r\n",
    "x_test_poly = np.c_[ \r\n",
    "\r\n",
    "  x_test, x_test ** 2, x_test ** 3, x_test ** 4, x_test ** 5, \r\n",
    "\r\n",
    "  x_test ** 6, x_test ** 7, x_test ** 8, x_test ** 9, x_test**10\r\n",
    "\r\n",
    "]"
   ],
   "outputs": [],
   "metadata": {}
  },
  {
   "cell_type": "code",
   "execution_count": 167,
   "source": [
    "polyModel = LinearRegression().fit(x_train_poly, y_train)"
   ],
   "outputs": [],
   "metadata": {}
  },
  {
   "cell_type": "code",
   "execution_count": 168,
   "source": [
    "polyModel.coef_"
   ],
   "outputs": [
    {
     "output_type": "execute_result",
     "data": {
      "text/plain": [
       "array([-4.51737913e+02,  1.21492329e+04, -1.27978862e+05,  7.19821219e+05,\n",
       "       -2.42305783e+06,  5.12030330e+06, -6.85145473e+06,  5.63608286e+06,\n",
       "       -2.60030935e+06,  5.14896384e+05])"
      ]
     },
     "metadata": {},
     "execution_count": 168
    }
   ],
   "metadata": {}
  },
  {
   "cell_type": "code",
   "execution_count": 191,
   "source": [
    "pd.DataFrame(data = polyModel.coef_).T.style.set_precision(2)"
   ],
   "outputs": [
    {
     "output_type": "execute_result",
     "data": {
      "text/plain": [
       "<pandas.io.formats.style.Styler at 0x1ece5befc10>"
      ],
      "text/html": [
       "<style  type=\"text/css\" >\n",
       "</style><table id=\"T_c2f11_\" ><thead>    <tr>        <th class=\"blank level0\" ></th>        <th class=\"col_heading level0 col0\" >0</th>        <th class=\"col_heading level0 col1\" >1</th>        <th class=\"col_heading level0 col2\" >2</th>        <th class=\"col_heading level0 col3\" >3</th>        <th class=\"col_heading level0 col4\" >4</th>        <th class=\"col_heading level0 col5\" >5</th>        <th class=\"col_heading level0 col6\" >6</th>        <th class=\"col_heading level0 col7\" >7</th>        <th class=\"col_heading level0 col8\" >8</th>        <th class=\"col_heading level0 col9\" >9</th>    </tr></thead><tbody>\n",
       "                <tr>\n",
       "                        <th id=\"T_c2f11_level0_row0\" class=\"row_heading level0 row0\" >0</th>\n",
       "                        <td id=\"T_c2f11_row0_col0\" class=\"data row0 col0\" >-451.74</td>\n",
       "                        <td id=\"T_c2f11_row0_col1\" class=\"data row0 col1\" >12149.23</td>\n",
       "                        <td id=\"T_c2f11_row0_col2\" class=\"data row0 col2\" >-127978.86</td>\n",
       "                        <td id=\"T_c2f11_row0_col3\" class=\"data row0 col3\" >719821.22</td>\n",
       "                        <td id=\"T_c2f11_row0_col4\" class=\"data row0 col4\" >-2423057.83</td>\n",
       "                        <td id=\"T_c2f11_row0_col5\" class=\"data row0 col5\" >5120303.30</td>\n",
       "                        <td id=\"T_c2f11_row0_col6\" class=\"data row0 col6\" >-6851454.73</td>\n",
       "                        <td id=\"T_c2f11_row0_col7\" class=\"data row0 col7\" >5636082.86</td>\n",
       "                        <td id=\"T_c2f11_row0_col8\" class=\"data row0 col8\" >-2600309.35</td>\n",
       "                        <td id=\"T_c2f11_row0_col9\" class=\"data row0 col9\" >514896.38</td>\n",
       "            </tr>\n",
       "    </tbody></table>"
      ]
     },
     "metadata": {},
     "execution_count": 191
    }
   ],
   "metadata": {}
  },
  {
   "cell_type": "code",
   "execution_count": 192,
   "source": [
    "def coef(model, x):\r\n",
    "    tmp = []\r\n",
    "    for coef in model.coef_:\r\n",
    "        tmp.append('{:0.02f}'.format(coef))\r\n",
    "  \r\n",
    "    if isinstance(x, np.ndarray):\r\n",
    "        x = pd.DataFrame(x)\r\n",
    "    \r\n",
    "    coef_ = pd.DataFrame( tmp, columns=['coef'] )\r\n",
    "    col = pd.DataFrame( x.columns, columns=['columns'] )\r\n",
    "    return pd.concat( [coef_, col], axis=1)"
   ],
   "outputs": [],
   "metadata": {}
  },
  {
   "cell_type": "code",
   "execution_count": 194,
   "source": [
    "coef(polyModel, x_train_poly).T"
   ],
   "outputs": [
    {
     "output_type": "execute_result",
     "data": {
      "text/plain": [
       "               0         1           2          3            4           5  \\\n",
       "coef     -451.74  12149.23  -127978.86  719821.22  -2423057.83  5120303.30   \n",
       "columns        0         1           2          3            4           5   \n",
       "\n",
       "                   6           7            8          9  \n",
       "coef     -6851454.73  5636082.86  -2600309.35  514896.38  \n",
       "columns            6           7            8          9  "
      ],
      "text/html": [
       "<div>\n",
       "<style scoped>\n",
       "    .dataframe tbody tr th:only-of-type {\n",
       "        vertical-align: middle;\n",
       "    }\n",
       "\n",
       "    .dataframe tbody tr th {\n",
       "        vertical-align: top;\n",
       "    }\n",
       "\n",
       "    .dataframe thead th {\n",
       "        text-align: right;\n",
       "    }\n",
       "</style>\n",
       "<table border=\"1\" class=\"dataframe\">\n",
       "  <thead>\n",
       "    <tr style=\"text-align: right;\">\n",
       "      <th></th>\n",
       "      <th>0</th>\n",
       "      <th>1</th>\n",
       "      <th>2</th>\n",
       "      <th>3</th>\n",
       "      <th>4</th>\n",
       "      <th>5</th>\n",
       "      <th>6</th>\n",
       "      <th>7</th>\n",
       "      <th>8</th>\n",
       "      <th>9</th>\n",
       "    </tr>\n",
       "  </thead>\n",
       "  <tbody>\n",
       "    <tr>\n",
       "      <th>coef</th>\n",
       "      <td>-451.74</td>\n",
       "      <td>12149.23</td>\n",
       "      <td>-127978.86</td>\n",
       "      <td>719821.22</td>\n",
       "      <td>-2423057.83</td>\n",
       "      <td>5120303.30</td>\n",
       "      <td>-6851454.73</td>\n",
       "      <td>5636082.86</td>\n",
       "      <td>-2600309.35</td>\n",
       "      <td>514896.38</td>\n",
       "    </tr>\n",
       "    <tr>\n",
       "      <th>columns</th>\n",
       "      <td>0</td>\n",
       "      <td>1</td>\n",
       "      <td>2</td>\n",
       "      <td>3</td>\n",
       "      <td>4</td>\n",
       "      <td>5</td>\n",
       "      <td>6</td>\n",
       "      <td>7</td>\n",
       "      <td>8</td>\n",
       "      <td>9</td>\n",
       "    </tr>\n",
       "  </tbody>\n",
       "</table>\n",
       "</div>"
      ]
     },
     "metadata": {},
     "execution_count": 194
    }
   ],
   "metadata": {}
  },
  {
   "cell_type": "code",
   "execution_count": 195,
   "source": [
    "plt.plot(x_train, y_train, 'o', label='train')\r\n",
    "plt.plot(x_test, y_test, 'o', label='test')\r\n",
    "plt.plot(x, polyModel.predict(x_poly))\r\n",
    "plt.legend()\r\n",
    "plt.grid()\r\n",
    "plt.show()"
   ],
   "outputs": [
    {
     "output_type": "display_data",
     "data": {
      "text/plain": [
       "<Figure size 432x288 with 1 Axes>"
      ],
      "image/png": "[encoded data removed]"
     },
     "metadata": {
      "needs_background": "light"
     }
    }
   ],
   "metadata": {}
  },
  {
   "cell_type": "code",
   "execution_count": 196,
   "source": [
    "from sklearn.linear_model import Ridge, Lasso, ElasticNet"
   ],
   "outputs": [],
   "metadata": {}
  },
  {
   "cell_type": "code",
   "execution_count": 197,
   "source": [
    "ridgeModel = Ridge(alpha=0).fit(x_train_poly, y_train)"
   ],
   "outputs": [],
   "metadata": {}
  },
  {
   "cell_type": "code",
   "execution_count": 198,
   "source": [
    "dt.coef(ridgeModel, x_train_poly).T"
   ],
   "outputs": [
    {
     "output_type": "execute_result",
     "data": {
      "text/plain": [
       "               0         1           2          3            4           5  \\\n",
       "coef     -461.86  12422.09  -130906.19  736592.93  -2480480.37  5243520.06   \n",
       "columns        0         1           2          3            4           5   \n",
       "\n",
       "                   6           7            8          9  \n",
       "coef     -7018597.32  5775236.42  -2665183.66  527858.39  \n",
       "columns            6           7            8          9  "
      ],
      "text/html": [
       "<div>\n",
       "<style scoped>\n",
       "    .dataframe tbody tr th:only-of-type {\n",
       "        vertical-align: middle;\n",
       "    }\n",
       "\n",
       "    .dataframe tbody tr th {\n",
       "        vertical-align: top;\n",
       "    }\n",
       "\n",
       "    .dataframe thead th {\n",
       "        text-align: right;\n",
       "    }\n",
       "</style>\n",
       "<table border=\"1\" class=\"dataframe\">\n",
       "  <thead>\n",
       "    <tr style=\"text-align: right;\">\n",
       "      <th></th>\n",
       "      <th>0</th>\n",
       "      <th>1</th>\n",
       "      <th>2</th>\n",
       "      <th>3</th>\n",
       "      <th>4</th>\n",
       "      <th>5</th>\n",
       "      <th>6</th>\n",
       "      <th>7</th>\n",
       "      <th>8</th>\n",
       "      <th>9</th>\n",
       "    </tr>\n",
       "  </thead>\n",
       "  <tbody>\n",
       "    <tr>\n",
       "      <th>coef</th>\n",
       "      <td>-461.86</td>\n",
       "      <td>12422.09</td>\n",
       "      <td>-130906.19</td>\n",
       "      <td>736592.93</td>\n",
       "      <td>-2480480.37</td>\n",
       "      <td>5243520.06</td>\n",
       "      <td>-7018597.32</td>\n",
       "      <td>5775236.42</td>\n",
       "      <td>-2665183.66</td>\n",
       "      <td>527858.39</td>\n",
       "    </tr>\n",
       "    <tr>\n",
       "      <th>columns</th>\n",
       "      <td>0</td>\n",
       "      <td>1</td>\n",
       "      <td>2</td>\n",
       "      <td>3</td>\n",
       "      <td>4</td>\n",
       "      <td>5</td>\n",
       "      <td>6</td>\n",
       "      <td>7</td>\n",
       "      <td>8</td>\n",
       "      <td>9</td>\n",
       "    </tr>\n",
       "  </tbody>\n",
       "</table>\n",
       "</div>"
      ]
     },
     "metadata": {},
     "execution_count": 198
    }
   ],
   "metadata": {}
  },
  {
   "cell_type": "code",
   "execution_count": 199,
   "source": [
    "ridgeModel = Ridge(alpha=1000).fit(x_train_poly, y_train)"
   ],
   "outputs": [],
   "metadata": {}
  },
  {
   "cell_type": "code",
   "execution_count": 200,
   "source": [
    "dt.coef(ridgeModel, x_train_poly).T"
   ],
   "outputs": [
    {
     "output_type": "execute_result",
     "data": {
      "text/plain": [
       "             0      1      2      3      4      5      6      7      8      9\n",
       "coef     -0.00  -0.00  -0.00  -0.00  -0.00  -0.00  -0.00  -0.00  -0.00  -0.00\n",
       "columns      0      1      2      3      4      5      6      7      8      9"
      ],
      "text/html": [
       "<div>\n",
       "<style scoped>\n",
       "    .dataframe tbody tr th:only-of-type {\n",
       "        vertical-align: middle;\n",
       "    }\n",
       "\n",
       "    .dataframe tbody tr th {\n",
       "        vertical-align: top;\n",
       "    }\n",
       "\n",
       "    .dataframe thead th {\n",
       "        text-align: right;\n",
       "    }\n",
       "</style>\n",
       "<table border=\"1\" class=\"dataframe\">\n",
       "  <thead>\n",
       "    <tr style=\"text-align: right;\">\n",
       "      <th></th>\n",
       "      <th>0</th>\n",
       "      <th>1</th>\n",
       "      <th>2</th>\n",
       "      <th>3</th>\n",
       "      <th>4</th>\n",
       "      <th>5</th>\n",
       "      <th>6</th>\n",
       "      <th>7</th>\n",
       "      <th>8</th>\n",
       "      <th>9</th>\n",
       "    </tr>\n",
       "  </thead>\n",
       "  <tbody>\n",
       "    <tr>\n",
       "      <th>coef</th>\n",
       "      <td>-0.00</td>\n",
       "      <td>-0.00</td>\n",
       "      <td>-0.00</td>\n",
       "      <td>-0.00</td>\n",
       "      <td>-0.00</td>\n",
       "      <td>-0.00</td>\n",
       "      <td>-0.00</td>\n",
       "      <td>-0.00</td>\n",
       "      <td>-0.00</td>\n",
       "      <td>-0.00</td>\n",
       "    </tr>\n",
       "    <tr>\n",
       "      <th>columns</th>\n",
       "      <td>0</td>\n",
       "      <td>1</td>\n",
       "      <td>2</td>\n",
       "      <td>3</td>\n",
       "      <td>4</td>\n",
       "      <td>5</td>\n",
       "      <td>6</td>\n",
       "      <td>7</td>\n",
       "      <td>8</td>\n",
       "      <td>9</td>\n",
       "    </tr>\n",
       "  </tbody>\n",
       "</table>\n",
       "</div>"
      ]
     },
     "metadata": {},
     "execution_count": 200
    }
   ],
   "metadata": {}
  },
  {
   "cell_type": "code",
   "execution_count": 201,
   "source": [
    "plt.plot(x_train, y_train, 'o', label='train')\r\n",
    "plt.plot(x_test, y_test, 'o', label='test')\r\n",
    "plt.plot(x, ridgeModel.predict(x_poly))\r\n",
    "plt.legend()\r\n",
    "plt.grid()\r\n",
    "plt.show()"
   ],
   "outputs": [
    {
     "output_type": "display_data",
     "data": {
      "text/plain": [
       "<Figure size 432x288 with 1 Axes>"
      ],
      "image/png": "[encoded data removed]"
     },
     "metadata": {
      "needs_background": "light"
     }
    }
   ],
   "metadata": {}
  },
  {
   "cell_type": "code",
   "execution_count": 221,
   "source": [
    "ridgeModel = Ridge(alpha=0.0001).fit(x_train_poly, y_train)"
   ],
   "outputs": [],
   "metadata": {}
  },
  {
   "cell_type": "code",
   "execution_count": 222,
   "source": [
    "dt.coef(ridgeModel, x_train_poly).T"
   ],
   "outputs": [
    {
     "output_type": "execute_result",
     "data": {
      "text/plain": [
       "            0       1      2     3     4     5     6      7      8      9\n",
       "coef     8.72  -15.74  -4.76  4.97  6.86  4.17  0.51  -1.94  -2.21  -0.11\n",
       "columns     0       1      2     3     4     5     6      7      8      9"
      ],
      "text/html": [
       "<div>\n",
       "<style scoped>\n",
       "    .dataframe tbody tr th:only-of-type {\n",
       "        vertical-align: middle;\n",
       "    }\n",
       "\n",
       "    .dataframe tbody tr th {\n",
       "        vertical-align: top;\n",
       "    }\n",
       "\n",
       "    .dataframe thead th {\n",
       "        text-align: right;\n",
       "    }\n",
       "</style>\n",
       "<table border=\"1\" class=\"dataframe\">\n",
       "  <thead>\n",
       "    <tr style=\"text-align: right;\">\n",
       "      <th></th>\n",
       "      <th>0</th>\n",
       "      <th>1</th>\n",
       "      <th>2</th>\n",
       "      <th>3</th>\n",
       "      <th>4</th>\n",
       "      <th>5</th>\n",
       "      <th>6</th>\n",
       "      <th>7</th>\n",
       "      <th>8</th>\n",
       "      <th>9</th>\n",
       "    </tr>\n",
       "  </thead>\n",
       "  <tbody>\n",
       "    <tr>\n",
       "      <th>coef</th>\n",
       "      <td>8.72</td>\n",
       "      <td>-15.74</td>\n",
       "      <td>-4.76</td>\n",
       "      <td>4.97</td>\n",
       "      <td>6.86</td>\n",
       "      <td>4.17</td>\n",
       "      <td>0.51</td>\n",
       "      <td>-1.94</td>\n",
       "      <td>-2.21</td>\n",
       "      <td>-0.11</td>\n",
       "    </tr>\n",
       "    <tr>\n",
       "      <th>columns</th>\n",
       "      <td>0</td>\n",
       "      <td>1</td>\n",
       "      <td>2</td>\n",
       "      <td>3</td>\n",
       "      <td>4</td>\n",
       "      <td>5</td>\n",
       "      <td>6</td>\n",
       "      <td>7</td>\n",
       "      <td>8</td>\n",
       "      <td>9</td>\n",
       "    </tr>\n",
       "  </tbody>\n",
       "</table>\n",
       "</div>"
      ]
     },
     "metadata": {},
     "execution_count": 222
    }
   ],
   "metadata": {}
  },
  {
   "cell_type": "code",
   "execution_count": 223,
   "source": [
    "plt.plot(x_train, y_train, 'o', label='train')\r\n",
    "plt.plot(x_test, y_test, 'o', label='test')\r\n",
    "plt.plot(x, ridgeModel.predict(x_poly))\r\n",
    "plt.legend()\r\n",
    "plt.grid()\r\n",
    "plt.show()"
   ],
   "outputs": [
    {
     "output_type": "display_data",
     "data": {
      "text/plain": [
       "<Figure size 432x288 with 1 Axes>"
      ],
      "image/png": "[encoded data removed]"
     },
     "metadata": {
      "needs_background": "light"
     }
    }
   ],
   "metadata": {}
  },
  {
   "cell_type": "code",
   "execution_count": 279,
   "source": [
    "lassoModel = Lasso(alpha=0.00001).fit(x_train_poly, y_train)"
   ],
   "outputs": [
    {
     "output_type": "stream",
     "name": "stderr",
     "text": [
      "Objective did not converge. You might want to increase the number of iterations. Duality gap: 0.1351197928047869, tolerance: 0.0004625291485534251\n"
     ]
    }
   ],
   "metadata": {}
  },
  {
   "cell_type": "code",
   "execution_count": 280,
   "source": [
    "dt.coef(lassoModel, x_train_poly).T"
   ],
   "outputs": [
    {
     "output_type": "execute_result",
     "data": {
      "text/plain": [
       "            0       1     2     3     4     5     6      7      8      9\n",
       "coef     9.47  -20.09  1.93  5.05  3.72  1.87  0.48  -0.23  -0.75  -0.95\n",
       "columns     0       1     2     3     4     5     6      7      8      9"
      ],
      "text/html": [
       "<div>\n",
       "<style scoped>\n",
       "    .dataframe tbody tr th:only-of-type {\n",
       "        vertical-align: middle;\n",
       "    }\n",
       "\n",
       "    .dataframe tbody tr th {\n",
       "        vertical-align: top;\n",
       "    }\n",
       "\n",
       "    .dataframe thead th {\n",
       "        text-align: right;\n",
       "    }\n",
       "</style>\n",
       "<table border=\"1\" class=\"dataframe\">\n",
       "  <thead>\n",
       "    <tr style=\"text-align: right;\">\n",
       "      <th></th>\n",
       "      <th>0</th>\n",
       "      <th>1</th>\n",
       "      <th>2</th>\n",
       "      <th>3</th>\n",
       "      <th>4</th>\n",
       "      <th>5</th>\n",
       "      <th>6</th>\n",
       "      <th>7</th>\n",
       "      <th>8</th>\n",
       "      <th>9</th>\n",
       "    </tr>\n",
       "  </thead>\n",
       "  <tbody>\n",
       "    <tr>\n",
       "      <th>coef</th>\n",
       "      <td>9.47</td>\n",
       "      <td>-20.09</td>\n",
       "      <td>1.93</td>\n",
       "      <td>5.05</td>\n",
       "      <td>3.72</td>\n",
       "      <td>1.87</td>\n",
       "      <td>0.48</td>\n",
       "      <td>-0.23</td>\n",
       "      <td>-0.75</td>\n",
       "      <td>-0.95</td>\n",
       "    </tr>\n",
       "    <tr>\n",
       "      <th>columns</th>\n",
       "      <td>0</td>\n",
       "      <td>1</td>\n",
       "      <td>2</td>\n",
       "      <td>3</td>\n",
       "      <td>4</td>\n",
       "      <td>5</td>\n",
       "      <td>6</td>\n",
       "      <td>7</td>\n",
       "      <td>8</td>\n",
       "      <td>9</td>\n",
       "    </tr>\n",
       "  </tbody>\n",
       "</table>\n",
       "</div>"
      ]
     },
     "metadata": {},
     "execution_count": 280
    }
   ],
   "metadata": {}
  },
  {
   "cell_type": "code",
   "execution_count": 281,
   "source": [
    "plt.plot(x_train, y_train, 'o', label='train')\r\n",
    "plt.plot(x_test, y_test, 'o', label='test')\r\n",
    "plt.plot(x, lassoModel.predict(x_poly))\r\n",
    "plt.legend()\r\n",
    "plt.grid()\r\n",
    "plt.show()"
   ],
   "outputs": [
    {
     "output_type": "display_data",
     "data": {
      "text/plain": [
       "<Figure size 432x288 with 1 Axes>"
      ],
      "image/png": "[encoded data removed]"
     },
     "metadata": {
      "needs_background": "light"
     }
    }
   ],
   "metadata": {}
  },
  {
   "cell_type": "code",
   "execution_count": 284,
   "source": [
    "elasticModel = ElasticNet(l1_ratio=0.5, alpha=0.0001, max_iter=1000000).fit(x_train_poly, y_train)"
   ],
   "outputs": [],
   "metadata": {}
  },
  {
   "cell_type": "code",
   "execution_count": 285,
   "source": [
    "dt.coef(elasticModel, x_train_poly).T"
   ],
   "outputs": [
    {
     "output_type": "execute_result",
     "data": {
      "text/plain": [
       "            0       1      2     3     4     5     6     7      8      9\n",
       "coef     7.15  -12.08  -4.13  1.43  4.48  4.29  2.43  0.00  -0.51  -2.65\n",
       "columns     0       1      2     3     4     5     6     7      8      9"
      ],
      "text/html": [
       "<div>\n",
       "<style scoped>\n",
       "    .dataframe tbody tr th:only-of-type {\n",
       "        vertical-align: middle;\n",
       "    }\n",
       "\n",
       "    .dataframe tbody tr th {\n",
       "        vertical-align: top;\n",
       "    }\n",
       "\n",
       "    .dataframe thead th {\n",
       "        text-align: right;\n",
       "    }\n",
       "</style>\n",
       "<table border=\"1\" class=\"dataframe\">\n",
       "  <thead>\n",
       "    <tr style=\"text-align: right;\">\n",
       "      <th></th>\n",
       "      <th>0</th>\n",
       "      <th>1</th>\n",
       "      <th>2</th>\n",
       "      <th>3</th>\n",
       "      <th>4</th>\n",
       "      <th>5</th>\n",
       "      <th>6</th>\n",
       "      <th>7</th>\n",
       "      <th>8</th>\n",
       "      <th>9</th>\n",
       "    </tr>\n",
       "  </thead>\n",
       "  <tbody>\n",
       "    <tr>\n",
       "      <th>coef</th>\n",
       "      <td>7.15</td>\n",
       "      <td>-12.08</td>\n",
       "      <td>-4.13</td>\n",
       "      <td>1.43</td>\n",
       "      <td>4.48</td>\n",
       "      <td>4.29</td>\n",
       "      <td>2.43</td>\n",
       "      <td>0.00</td>\n",
       "      <td>-0.51</td>\n",
       "      <td>-2.65</td>\n",
       "    </tr>\n",
       "    <tr>\n",
       "      <th>columns</th>\n",
       "      <td>0</td>\n",
       "      <td>1</td>\n",
       "      <td>2</td>\n",
       "      <td>3</td>\n",
       "      <td>4</td>\n",
       "      <td>5</td>\n",
       "      <td>6</td>\n",
       "      <td>7</td>\n",
       "      <td>8</td>\n",
       "      <td>9</td>\n",
       "    </tr>\n",
       "  </tbody>\n",
       "</table>\n",
       "</div>"
      ]
     },
     "metadata": {},
     "execution_count": 285
    }
   ],
   "metadata": {}
  },
  {
   "cell_type": "code",
   "execution_count": 286,
   "source": [
    "plt.plot(x_train, y_train, 'o', label='train')\r\n",
    "plt.plot(x_test, y_test, 'o', label='test')\r\n",
    "plt.plot(x, elasticModel.predict(x_poly))\r\n",
    "plt.legend()\r\n",
    "plt.grid()\r\n",
    "plt.show()"
   ],
   "outputs": [
    {
     "output_type": "display_data",
     "data": {
      "text/plain": [
       "<Figure size 432x288 with 1 Axes>"
      ],
      "image/png": "[encoded data removed]"
     },
     "metadata": {
      "needs_background": "light"
     }
    }
   ],
   "metadata": {}
  },
  {
   "cell_type": "code",
   "execution_count": null,
   "source": [],
   "outputs": [],
   "metadata": {}
  }
 ],
 "metadata": {
  "orig_nbformat": 4,
  "language_info": {
   "name": "python",
   "version": "3.9.2",
   "mimetype": "text/x-python",
   "codemirror_mode": {
    "name": "ipython",
    "version": 3
   },
   "pygments_lexer": "ipython3",
   "nbconvert_exporter": "python",
   "file_extension": ".py"
  },
  "kernelspec": {
   "name": "python3",
   "display_name": "Python 3.9.2 64-bit"
  },
  "interpreter": {
   "hash": "9fed83269f86bf221e676bbe433824654e89693622224fbf48225c086bf7076f"
  }
 },
 "nbformat": 4,
 "nbformat_minor": 2
}