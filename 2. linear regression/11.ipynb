{
 "metadata": {
  "language_info": {
   "codemirror_mode": {
    "name": "ipython",
    "version": 3
   },
   "file_extension": ".py",
   "mimetype": "text/x-python",
   "name": "python",
   "nbconvert_exporter": "python",
   "pygments_lexer": "ipython3",
   "version": "3.9.2"
  },
  "orig_nbformat": 4,
  "kernelspec": {
   "name": "python3",
   "display_name": "Python 3.9.2 64-bit"
  },
  "interpreter": {
   "hash": "9fed83269f86bf221e676bbe433824654e89693622224fbf48225c086bf7076f"
  }
 },
 "nbformat": 4,
 "nbformat_minor": 2,
 "cells": [
  {
   "cell_type": "code",
   "execution_count": 25,
   "metadata": {},
   "outputs": [],
   "source": [
    "from sklearn import datasets"
   ]
  },
  {
   "cell_type": "code",
   "execution_count": 26,
   "metadata": {},
   "outputs": [],
   "source": [
    "data = datasets.load_diabetes()"
   ]
  },
  {
   "cell_type": "code",
   "execution_count": 27,
   "metadata": {},
   "outputs": [
    {
     "output_type": "execute_result",
     "data": {
      "text/plain": [
       "dict_keys(['data', 'target', 'frame', 'DESCR', 'feature_names', 'data_filename', 'target_filename'])"
      ]
     },
     "metadata": {},
     "execution_count": 27
    }
   ],
   "source": [
    "data.keys()"
   ]
  },
  {
   "cell_type": "code",
   "execution_count": 28,
   "metadata": {},
   "outputs": [
    {
     "output_type": "execute_result",
     "data": {
      "text/plain": [
       "['age', 'sex', 'bmi', 'bp', 's1', 's2', 's3', 's4', 's5', 's6']"
      ]
     },
     "metadata": {},
     "execution_count": 28
    }
   ],
   "source": [
    "data['feature_names']"
   ]
  },
  {
   "cell_type": "code",
   "execution_count": 30,
   "metadata": {},
   "outputs": [],
   "source": [
    "features = pd.DataFrame( data['data'], columns=data['feature_names'] )"
   ]
  },
  {
   "cell_type": "code",
   "execution_count": 31,
   "metadata": {},
   "outputs": [
    {
     "output_type": "execute_result",
     "data": {
      "text/plain": [
       "          age       sex       bmi        bp        s1        s2        s3  \\\n",
       "0    0.038076  0.050680  0.061696  0.021872 -0.044223 -0.034821 -0.043401   \n",
       "1   -0.001882 -0.044642 -0.051474 -0.026328 -0.008449 -0.019163  0.074412   \n",
       "2    0.085299  0.050680  0.044451 -0.005671 -0.045599 -0.034194 -0.032356   \n",
       "3   -0.089063 -0.044642 -0.011595 -0.036656  0.012191  0.024991 -0.036038   \n",
       "4    0.005383 -0.044642 -0.036385  0.021872  0.003935  0.015596  0.008142   \n",
       "..        ...       ...       ...       ...       ...       ...       ...   \n",
       "437  0.041708  0.050680  0.019662  0.059744 -0.005697 -0.002566 -0.028674   \n",
       "438 -0.005515  0.050680 -0.015906 -0.067642  0.049341  0.079165 -0.028674   \n",
       "439  0.041708  0.050680 -0.015906  0.017282 -0.037344 -0.013840 -0.024993   \n",
       "440 -0.045472 -0.044642  0.039062  0.001215  0.016318  0.015283 -0.028674   \n",
       "441 -0.045472 -0.044642 -0.073030 -0.081414  0.083740  0.027809  0.173816   \n",
       "\n",
       "           s4        s5        s6  \n",
       "0   -0.002592  0.019908 -0.017646  \n",
       "1   -0.039493 -0.068330 -0.092204  \n",
       "2   -0.002592  0.002864 -0.025930  \n",
       "3    0.034309  0.022692 -0.009362  \n",
       "4   -0.002592 -0.031991 -0.046641  \n",
       "..        ...       ...       ...  \n",
       "437 -0.002592  0.031193  0.007207  \n",
       "438  0.034309 -0.018118  0.044485  \n",
       "439 -0.011080 -0.046879  0.015491  \n",
       "440  0.026560  0.044528 -0.025930  \n",
       "441 -0.039493 -0.004220  0.003064  \n",
       "\n",
       "[442 rows x 10 columns]"
      ],
      "text/html": "<div>\n<style scoped>\n    .dataframe tbody tr th:only-of-type {\n        vertical-align: middle;\n    }\n\n    .dataframe tbody tr th {\n        vertical-align: top;\n    }\n\n    .dataframe thead th {\n        text-align: right;\n    }\n</style>\n<table border=\"1\" class=\"dataframe\">\n  <thead>\n    <tr style=\"text-align: right;\">\n      <th></th>\n      <th>age</th>\n      <th>sex</th>\n      <th>bmi</th>\n      <th>bp</th>\n      <th>s1</th>\n      <th>s2</th>\n      <th>s3</th>\n      <th>s4</th>\n      <th>s5</th>\n      <th>s6</th>\n    </tr>\n  </thead>\n  <tbody>\n    <tr>\n      <th>0</th>\n      <td>0.038076</td>\n      <td>0.050680</td>\n      <td>0.061696</td>\n      <td>0.021872</td>\n      <td>-0.044223</td>\n      <td>-0.034821</td>\n      <td>-0.043401</td>\n      <td>-0.002592</td>\n      <td>0.019908</td>\n      <td>-0.017646</td>\n    </tr>\n    <tr>\n      <th>1</th>\n      <td>-0.001882</td>\n      <td>-0.044642</td>\n      <td>-0.051474</td>\n      <td>-0.026328</td>\n      <td>-0.008449</td>\n      <td>-0.019163</td>\n      <td>0.074412</td>\n      <td>-0.039493</td>\n      <td>-0.068330</td>\n      <td>-0.092204</td>\n    </tr>\n    <tr>\n      <th>2</th>\n      <td>0.085299</td>\n      <td>0.050680</td>\n      <td>0.044451</td>\n      <td>-0.005671</td>\n      <td>-0.045599</td>\n      <td>-0.034194</td>\n      <td>-0.032356</td>\n      <td>-0.002592</td>\n      <td>0.002864</td>\n      <td>-0.025930</td>\n    </tr>\n    <tr>\n      <th>3</th>\n      <td>-0.089063</td>\n      <td>-0.044642</td>\n      <td>-0.011595</td>\n      <td>-0.036656</td>\n      <td>0.012191</td>\n      <td>0.024991</td>\n      <td>-0.036038</td>\n      <td>0.034309</td>\n      <td>0.022692</td>\n      <td>-0.009362</td>\n    </tr>\n    <tr>\n      <th>4</th>\n      <td>0.005383</td>\n      <td>-0.044642</td>\n      <td>-0.036385</td>\n      <td>0.021872</td>\n      <td>0.003935</td>\n      <td>0.015596</td>\n      <td>0.008142</td>\n      <td>-0.002592</td>\n      <td>-0.031991</td>\n      <td>-0.046641</td>\n    </tr>\n    <tr>\n      <th>...</th>\n      <td>...</td>\n      <td>...</td>\n      <td>...</td>\n      <td>...</td>\n      <td>...</td>\n      <td>...</td>\n      <td>...</td>\n      <td>...</td>\n      <td>...</td>\n      <td>...</td>\n    </tr>\n    <tr>\n      <th>437</th>\n      <td>0.041708</td>\n      <td>0.050680</td>\n      <td>0.019662</td>\n      <td>0.059744</td>\n      <td>-0.005697</td>\n      <td>-0.002566</td>\n      <td>-0.028674</td>\n      <td>-0.002592</td>\n      <td>0.031193</td>\n      <td>0.007207</td>\n    </tr>\n    <tr>\n      <th>438</th>\n      <td>-0.005515</td>\n      <td>0.050680</td>\n      <td>-0.015906</td>\n      <td>-0.067642</td>\n      <td>0.049341</td>\n      <td>0.079165</td>\n      <td>-0.028674</td>\n      <td>0.034309</td>\n      <td>-0.018118</td>\n      <td>0.044485</td>\n    </tr>\n    <tr>\n      <th>439</th>\n      <td>0.041708</td>\n      <td>0.050680</td>\n      <td>-0.015906</td>\n      <td>0.017282</td>\n      <td>-0.037344</td>\n      <td>-0.013840</td>\n      <td>-0.024993</td>\n      <td>-0.011080</td>\n      <td>-0.046879</td>\n      <td>0.015491</td>\n    </tr>\n    <tr>\n      <th>440</th>\n      <td>-0.045472</td>\n      <td>-0.044642</td>\n      <td>0.039062</td>\n      <td>0.001215</td>\n      <td>0.016318</td>\n      <td>0.015283</td>\n      <td>-0.028674</td>\n      <td>0.026560</td>\n      <td>0.044528</td>\n      <td>-0.025930</td>\n    </tr>\n    <tr>\n      <th>441</th>\n      <td>-0.045472</td>\n      <td>-0.044642</td>\n      <td>-0.073030</td>\n      <td>-0.081414</td>\n      <td>0.083740</td>\n      <td>0.027809</td>\n      <td>0.173816</td>\n      <td>-0.039493</td>\n      <td>-0.004220</td>\n      <td>0.003064</td>\n    </tr>\n  </tbody>\n</table>\n<p>442 rows × 10 columns</p>\n</div>"
     },
     "metadata": {},
     "execution_count": 31
    }
   ],
   "source": [
    "features"
   ]
  },
  {
   "cell_type": "code",
   "execution_count": 32,
   "metadata": {},
   "outputs": [],
   "source": [
    "target = pd.DataFrame(data['target'], columns=['target'])"
   ]
  },
  {
   "cell_type": "code",
   "execution_count": 33,
   "metadata": {},
   "outputs": [
    {
     "output_type": "execute_result",
     "data": {
      "text/plain": [
       "     target\n",
       "0     151.0\n",
       "1      75.0\n",
       "2     141.0\n",
       "3     206.0\n",
       "4     135.0\n",
       "..      ...\n",
       "437   178.0\n",
       "438   104.0\n",
       "439   132.0\n",
       "440   220.0\n",
       "441    57.0\n",
       "\n",
       "[442 rows x 1 columns]"
      ],
      "text/html": "<div>\n<style scoped>\n    .dataframe tbody tr th:only-of-type {\n        vertical-align: middle;\n    }\n\n    .dataframe tbody tr th {\n        vertical-align: top;\n    }\n\n    .dataframe thead th {\n        text-align: right;\n    }\n</style>\n<table border=\"1\" class=\"dataframe\">\n  <thead>\n    <tr style=\"text-align: right;\">\n      <th></th>\n      <th>target</th>\n    </tr>\n  </thead>\n  <tbody>\n    <tr>\n      <th>0</th>\n      <td>151.0</td>\n    </tr>\n    <tr>\n      <th>1</th>\n      <td>75.0</td>\n    </tr>\n    <tr>\n      <th>2</th>\n      <td>141.0</td>\n    </tr>\n    <tr>\n      <th>3</th>\n      <td>206.0</td>\n    </tr>\n    <tr>\n      <th>4</th>\n      <td>135.0</td>\n    </tr>\n    <tr>\n      <th>...</th>\n      <td>...</td>\n    </tr>\n    <tr>\n      <th>437</th>\n      <td>178.0</td>\n    </tr>\n    <tr>\n      <th>438</th>\n      <td>104.0</td>\n    </tr>\n    <tr>\n      <th>439</th>\n      <td>132.0</td>\n    </tr>\n    <tr>\n      <th>440</th>\n      <td>220.0</td>\n    </tr>\n    <tr>\n      <th>441</th>\n      <td>57.0</td>\n    </tr>\n  </tbody>\n</table>\n<p>442 rows × 1 columns</p>\n</div>"
     },
     "metadata": {},
     "execution_count": 33
    }
   ],
   "source": [
    "target"
   ]
  },
  {
   "cell_type": "code",
   "execution_count": 40,
   "metadata": {},
   "outputs": [],
   "source": [
    "from statsmodels.formula.api import ols\n",
    "model = ols(\"target ~ features\", data).fit()"
   ]
  },
  {
   "cell_type": "code",
   "execution_count": 44,
   "metadata": {},
   "outputs": [
    {
     "output_type": "stream",
     "name": "stdout",
     "text": [
      "                            OLS Regression Results                            \n==============================================================================\nDep. Variable:                 target   R-squared:                       0.518\nModel:                            OLS   Adj. R-squared:                  0.507\nMethod:                 Least Squares   F-statistic:                     46.27\nDate:                Sun, 18 Jul 2021   Prob (F-statistic):           3.83e-62\nTime:                        00:38:29   Log-Likelihood:                -2386.0\nNo. Observations:                 442   AIC:                             4794.\nDf Residuals:                     431   BIC:                             4839.\nDf Model:                          10                                         \nCovariance Type:            nonrobust                                         \n===============================================================================\n                  coef    std err          t      P>|t|      [0.025      0.975]\n-------------------------------------------------------------------------------\nIntercept     152.1335      2.576     59.061      0.000     147.071     157.196\nfeatures[0]   -10.0122     59.749     -0.168      0.867    -127.448     107.424\nfeatures[1]  -239.8191     61.222     -3.917      0.000    -360.151    -119.488\nfeatures[2]   519.8398     66.534      7.813      0.000     389.069     650.610\nfeatures[3]   324.3904     65.422      4.958      0.000     195.805     452.976\nfeatures[4]  -792.1842    416.684     -1.901      0.058   -1611.169      26.801\nfeatures[5]   476.7458    339.035      1.406      0.160    -189.621    1143.113\nfeatures[6]   101.0446    212.533      0.475      0.635    -316.685     518.774\nfeatures[7]   177.0642    161.476      1.097      0.273    -140.313     494.442\nfeatures[8]   751.2793    171.902      4.370      0.000     413.409    1089.150\nfeatures[9]    67.6254     65.984      1.025      0.306     -62.065     197.316\n==============================================================================\nOmnibus:                        1.506   Durbin-Watson:                   2.029\nProb(Omnibus):                  0.471   Jarque-Bera (JB):                1.404\nSkew:                           0.017   Prob(JB):                        0.496\nKurtosis:                       2.726   Cond. No.                         227.\n==============================================================================\n\nNotes:\n[1] Standard Errors assume that the covariance matrix of the errors is correctly specified.\n"
     ]
    }
   ],
   "source": [
    "print(model.summary())"
   ]
  },
  {
   "cell_type": "code",
   "execution_count": null,
   "metadata": {},
   "outputs": [],
   "source": []
  }
 ]
}